{
  "nbformat": 4,
  "nbformat_minor": 0,
  "metadata": {
    "colab": {
      "name": "DSGA1012-HW2-wz2164.ipynb",
      "provenance": [],
      "collapsed_sections": []
    },
    "kernelspec": {
      "name": "python3",
      "display_name": "Python 3"
    },
    "widgets": {
      "application/vnd.jupyter.widget-state+json": {
        "6e975184490c432abc34232fff7ec2a1": {
          "model_module": "@jupyter-widgets/controls",
          "model_name": "HBoxModel",
          "model_module_version": "1.5.0",
          "state": {
            "_view_name": "HBoxView",
            "_dom_classes": [],
            "_model_name": "HBoxModel",
            "_view_module": "@jupyter-widgets/controls",
            "_model_module_version": "1.5.0",
            "_view_count": null,
            "_view_module_version": "1.5.0",
            "box_style": "",
            "layout": "IPY_MODEL_c46fd8970a7f4c94abfbeff242a97fa2",
            "_model_module": "@jupyter-widgets/controls",
            "children": [
              "IPY_MODEL_9a72b2451ba241418fd8ba0c81b8f8e3",
              "IPY_MODEL_ef37e7264e64487792bbf3e8112d7ad1",
              "IPY_MODEL_cbd3a86ee2f54bcab4f0bb1aa77eb415"
            ]
          }
        },
        "c46fd8970a7f4c94abfbeff242a97fa2": {
          "model_module": "@jupyter-widgets/base",
          "model_name": "LayoutModel",
          "model_module_version": "1.2.0",
          "state": {
            "_view_name": "LayoutView",
            "grid_template_rows": null,
            "right": null,
            "justify_content": null,
            "_view_module": "@jupyter-widgets/base",
            "overflow": null,
            "_model_module_version": "1.2.0",
            "_view_count": null,
            "flex_flow": null,
            "width": null,
            "min_width": null,
            "border": null,
            "align_items": null,
            "bottom": null,
            "_model_module": "@jupyter-widgets/base",
            "top": null,
            "grid_column": null,
            "overflow_y": null,
            "overflow_x": null,
            "grid_auto_flow": null,
            "grid_area": null,
            "grid_template_columns": null,
            "flex": null,
            "_model_name": "LayoutModel",
            "justify_items": null,
            "grid_row": null,
            "max_height": null,
            "align_content": null,
            "visibility": null,
            "align_self": null,
            "height": null,
            "min_height": null,
            "padding": null,
            "grid_auto_rows": null,
            "grid_gap": null,
            "max_width": null,
            "order": null,
            "_view_module_version": "1.2.0",
            "grid_template_areas": null,
            "object_position": null,
            "object_fit": null,
            "grid_auto_columns": null,
            "margin": null,
            "display": null,
            "left": null
          }
        },
        "9a72b2451ba241418fd8ba0c81b8f8e3": {
          "model_module": "@jupyter-widgets/controls",
          "model_name": "HTMLModel",
          "model_module_version": "1.5.0",
          "state": {
            "_view_name": "HTMLView",
            "style": "IPY_MODEL_e3eb51cf63924a068d16a500aefca31d",
            "_dom_classes": [],
            "description": "",
            "_model_name": "HTMLModel",
            "placeholder": "​",
            "_view_module": "@jupyter-widgets/controls",
            "_model_module_version": "1.5.0",
            "value": "100%",
            "_view_count": null,
            "_view_module_version": "1.5.0",
            "description_tooltip": null,
            "_model_module": "@jupyter-widgets/controls",
            "layout": "IPY_MODEL_8ca220ae622144909df97f25ab1d7cd2"
          }
        },
        "ef37e7264e64487792bbf3e8112d7ad1": {
          "model_module": "@jupyter-widgets/controls",
          "model_name": "FloatProgressModel",
          "model_module_version": "1.5.0",
          "state": {
            "_view_name": "ProgressView",
            "style": "IPY_MODEL_0fc47511bfc9437a8bf8e3e1ca660ccd",
            "_dom_classes": [],
            "description": "",
            "_model_name": "FloatProgressModel",
            "bar_style": "success",
            "max": 3902,
            "_view_module": "@jupyter-widgets/controls",
            "_model_module_version": "1.5.0",
            "value": 3902,
            "_view_count": null,
            "_view_module_version": "1.5.0",
            "orientation": "horizontal",
            "min": 0,
            "description_tooltip": null,
            "_model_module": "@jupyter-widgets/controls",
            "layout": "IPY_MODEL_a3d3e009c29b4582a75e7b39568d6f84"
          }
        },
        "cbd3a86ee2f54bcab4f0bb1aa77eb415": {
          "model_module": "@jupyter-widgets/controls",
          "model_name": "HTMLModel",
          "model_module_version": "1.5.0",
          "state": {
            "_view_name": "HTMLView",
            "style": "IPY_MODEL_fa6335fa8eac486a89833ce6a85dfec2",
            "_dom_classes": [],
            "description": "",
            "_model_name": "HTMLModel",
            "placeholder": "​",
            "_view_module": "@jupyter-widgets/controls",
            "_model_module_version": "1.5.0",
            "value": " 3902/3902 [00:01&lt;00:00, 2956.53it/s]",
            "_view_count": null,
            "_view_module_version": "1.5.0",
            "description_tooltip": null,
            "_model_module": "@jupyter-widgets/controls",
            "layout": "IPY_MODEL_f67427c6a9e842bd9605fe7e2b49478b"
          }
        },
        "e3eb51cf63924a068d16a500aefca31d": {
          "model_module": "@jupyter-widgets/controls",
          "model_name": "DescriptionStyleModel",
          "model_module_version": "1.5.0",
          "state": {
            "_view_name": "StyleView",
            "_model_name": "DescriptionStyleModel",
            "description_width": "",
            "_view_module": "@jupyter-widgets/base",
            "_model_module_version": "1.5.0",
            "_view_count": null,
            "_view_module_version": "1.2.0",
            "_model_module": "@jupyter-widgets/controls"
          }
        },
        "8ca220ae622144909df97f25ab1d7cd2": {
          "model_module": "@jupyter-widgets/base",
          "model_name": "LayoutModel",
          "model_module_version": "1.2.0",
          "state": {
            "_view_name": "LayoutView",
            "grid_template_rows": null,
            "right": null,
            "justify_content": null,
            "_view_module": "@jupyter-widgets/base",
            "overflow": null,
            "_model_module_version": "1.2.0",
            "_view_count": null,
            "flex_flow": null,
            "width": null,
            "min_width": null,
            "border": null,
            "align_items": null,
            "bottom": null,
            "_model_module": "@jupyter-widgets/base",
            "top": null,
            "grid_column": null,
            "overflow_y": null,
            "overflow_x": null,
            "grid_auto_flow": null,
            "grid_area": null,
            "grid_template_columns": null,
            "flex": null,
            "_model_name": "LayoutModel",
            "justify_items": null,
            "grid_row": null,
            "max_height": null,
            "align_content": null,
            "visibility": null,
            "align_self": null,
            "height": null,
            "min_height": null,
            "padding": null,
            "grid_auto_rows": null,
            "grid_gap": null,
            "max_width": null,
            "order": null,
            "_view_module_version": "1.2.0",
            "grid_template_areas": null,
            "object_position": null,
            "object_fit": null,
            "grid_auto_columns": null,
            "margin": null,
            "display": null,
            "left": null
          }
        },
        "0fc47511bfc9437a8bf8e3e1ca660ccd": {
          "model_module": "@jupyter-widgets/controls",
          "model_name": "ProgressStyleModel",
          "model_module_version": "1.5.0",
          "state": {
            "_view_name": "StyleView",
            "_model_name": "ProgressStyleModel",
            "description_width": "",
            "_view_module": "@jupyter-widgets/base",
            "_model_module_version": "1.5.0",
            "_view_count": null,
            "_view_module_version": "1.2.0",
            "bar_color": null,
            "_model_module": "@jupyter-widgets/controls"
          }
        },
        "a3d3e009c29b4582a75e7b39568d6f84": {
          "model_module": "@jupyter-widgets/base",
          "model_name": "LayoutModel",
          "model_module_version": "1.2.0",
          "state": {
            "_view_name": "LayoutView",
            "grid_template_rows": null,
            "right": null,
            "justify_content": null,
            "_view_module": "@jupyter-widgets/base",
            "overflow": null,
            "_model_module_version": "1.2.0",
            "_view_count": null,
            "flex_flow": null,
            "width": null,
            "min_width": null,
            "border": null,
            "align_items": null,
            "bottom": null,
            "_model_module": "@jupyter-widgets/base",
            "top": null,
            "grid_column": null,
            "overflow_y": null,
            "overflow_x": null,
            "grid_auto_flow": null,
            "grid_area": null,
            "grid_template_columns": null,
            "flex": null,
            "_model_name": "LayoutModel",
            "justify_items": null,
            "grid_row": null,
            "max_height": null,
            "align_content": null,
            "visibility": null,
            "align_self": null,
            "height": null,
            "min_height": null,
            "padding": null,
            "grid_auto_rows": null,
            "grid_gap": null,
            "max_width": null,
            "order": null,
            "_view_module_version": "1.2.0",
            "grid_template_areas": null,
            "object_position": null,
            "object_fit": null,
            "grid_auto_columns": null,
            "margin": null,
            "display": null,
            "left": null
          }
        },
        "fa6335fa8eac486a89833ce6a85dfec2": {
          "model_module": "@jupyter-widgets/controls",
          "model_name": "DescriptionStyleModel",
          "model_module_version": "1.5.0",
          "state": {
            "_view_name": "StyleView",
            "_model_name": "DescriptionStyleModel",
            "description_width": "",
            "_view_module": "@jupyter-widgets/base",
            "_model_module_version": "1.5.0",
            "_view_count": null,
            "_view_module_version": "1.2.0",
            "_model_module": "@jupyter-widgets/controls"
          }
        },
        "f67427c6a9e842bd9605fe7e2b49478b": {
          "model_module": "@jupyter-widgets/base",
          "model_name": "LayoutModel",
          "model_module_version": "1.2.0",
          "state": {
            "_view_name": "LayoutView",
            "grid_template_rows": null,
            "right": null,
            "justify_content": null,
            "_view_module": "@jupyter-widgets/base",
            "overflow": null,
            "_model_module_version": "1.2.0",
            "_view_count": null,
            "flex_flow": null,
            "width": null,
            "min_width": null,
            "border": null,
            "align_items": null,
            "bottom": null,
            "_model_module": "@jupyter-widgets/base",
            "top": null,
            "grid_column": null,
            "overflow_y": null,
            "overflow_x": null,
            "grid_auto_flow": null,
            "grid_area": null,
            "grid_template_columns": null,
            "flex": null,
            "_model_name": "LayoutModel",
            "justify_items": null,
            "grid_row": null,
            "max_height": null,
            "align_content": null,
            "visibility": null,
            "align_self": null,
            "height": null,
            "min_height": null,
            "padding": null,
            "grid_auto_rows": null,
            "grid_gap": null,
            "max_width": null,
            "order": null,
            "_view_module_version": "1.2.0",
            "grid_template_areas": null,
            "object_position": null,
            "object_fit": null,
            "grid_auto_columns": null,
            "margin": null,
            "display": null,
            "left": null
          }
        },
        "0f9d43d545f04c019f64ac04bef9a241": {
          "model_module": "@jupyter-widgets/controls",
          "model_name": "HBoxModel",
          "model_module_version": "1.5.0",
          "state": {
            "_view_name": "HBoxView",
            "_dom_classes": [],
            "_model_name": "HBoxModel",
            "_view_module": "@jupyter-widgets/controls",
            "_model_module_version": "1.5.0",
            "_view_count": null,
            "_view_module_version": "1.5.0",
            "box_style": "",
            "layout": "IPY_MODEL_1b237b3842544ca898796575b02adb60",
            "_model_module": "@jupyter-widgets/controls",
            "children": [
              "IPY_MODEL_c6eb13c4044e43c4a464b0f68c82f02f",
              "IPY_MODEL_06c1594746fa406cbdf990e48b3a177d",
              "IPY_MODEL_c99735c8f8fa44cd94e533cbbde5c9ce"
            ]
          }
        },
        "1b237b3842544ca898796575b02adb60": {
          "model_module": "@jupyter-widgets/base",
          "model_name": "LayoutModel",
          "model_module_version": "1.2.0",
          "state": {
            "_view_name": "LayoutView",
            "grid_template_rows": null,
            "right": null,
            "justify_content": null,
            "_view_module": "@jupyter-widgets/base",
            "overflow": null,
            "_model_module_version": "1.2.0",
            "_view_count": null,
            "flex_flow": null,
            "width": null,
            "min_width": null,
            "border": null,
            "align_items": null,
            "bottom": null,
            "_model_module": "@jupyter-widgets/base",
            "top": null,
            "grid_column": null,
            "overflow_y": null,
            "overflow_x": null,
            "grid_auto_flow": null,
            "grid_area": null,
            "grid_template_columns": null,
            "flex": null,
            "_model_name": "LayoutModel",
            "justify_items": null,
            "grid_row": null,
            "max_height": null,
            "align_content": null,
            "visibility": null,
            "align_self": null,
            "height": null,
            "min_height": null,
            "padding": null,
            "grid_auto_rows": null,
            "grid_gap": null,
            "max_width": null,
            "order": null,
            "_view_module_version": "1.2.0",
            "grid_template_areas": null,
            "object_position": null,
            "object_fit": null,
            "grid_auto_columns": null,
            "margin": null,
            "display": null,
            "left": null
          }
        },
        "c6eb13c4044e43c4a464b0f68c82f02f": {
          "model_module": "@jupyter-widgets/controls",
          "model_name": "HTMLModel",
          "model_module_version": "1.5.0",
          "state": {
            "_view_name": "HTMLView",
            "style": "IPY_MODEL_c0102f236ed841e090a001246a079753",
            "_dom_classes": [],
            "description": "",
            "_model_name": "HTMLModel",
            "placeholder": "​",
            "_view_module": "@jupyter-widgets/controls",
            "_model_module_version": "1.5.0",
            "value": "100%",
            "_view_count": null,
            "_view_module_version": "1.5.0",
            "description_tooltip": null,
            "_model_module": "@jupyter-widgets/controls",
            "layout": "IPY_MODEL_11a1f9da23f94a81b2a76c764518d001"
          }
        },
        "06c1594746fa406cbdf990e48b3a177d": {
          "model_module": "@jupyter-widgets/controls",
          "model_name": "FloatProgressModel",
          "model_module_version": "1.5.0",
          "state": {
            "_view_name": "ProgressView",
            "style": "IPY_MODEL_083d383e07794de39ce69d4e91e32282",
            "_dom_classes": [],
            "description": "",
            "_model_name": "FloatProgressModel",
            "bar_style": "success",
            "max": 835,
            "_view_module": "@jupyter-widgets/controls",
            "_model_module_version": "1.5.0",
            "value": 835,
            "_view_count": null,
            "_view_module_version": "1.5.0",
            "orientation": "horizontal",
            "min": 0,
            "description_tooltip": null,
            "_model_module": "@jupyter-widgets/controls",
            "layout": "IPY_MODEL_a8a52787f03640bbb08c541e8af54f76"
          }
        },
        "c99735c8f8fa44cd94e533cbbde5c9ce": {
          "model_module": "@jupyter-widgets/controls",
          "model_name": "HTMLModel",
          "model_module_version": "1.5.0",
          "state": {
            "_view_name": "HTMLView",
            "style": "IPY_MODEL_dfaf023782f04da6a37b75c55b296f47",
            "_dom_classes": [],
            "description": "",
            "_model_name": "HTMLModel",
            "placeholder": "​",
            "_view_module": "@jupyter-widgets/controls",
            "_model_module_version": "1.5.0",
            "value": " 835/835 [00:00&lt;00:00, 2273.01it/s]",
            "_view_count": null,
            "_view_module_version": "1.5.0",
            "description_tooltip": null,
            "_model_module": "@jupyter-widgets/controls",
            "layout": "IPY_MODEL_f4cf1f20d9e1454789cd43b16909096e"
          }
        },
        "c0102f236ed841e090a001246a079753": {
          "model_module": "@jupyter-widgets/controls",
          "model_name": "DescriptionStyleModel",
          "model_module_version": "1.5.0",
          "state": {
            "_view_name": "StyleView",
            "_model_name": "DescriptionStyleModel",
            "description_width": "",
            "_view_module": "@jupyter-widgets/base",
            "_model_module_version": "1.5.0",
            "_view_count": null,
            "_view_module_version": "1.2.0",
            "_model_module": "@jupyter-widgets/controls"
          }
        },
        "11a1f9da23f94a81b2a76c764518d001": {
          "model_module": "@jupyter-widgets/base",
          "model_name": "LayoutModel",
          "model_module_version": "1.2.0",
          "state": {
            "_view_name": "LayoutView",
            "grid_template_rows": null,
            "right": null,
            "justify_content": null,
            "_view_module": "@jupyter-widgets/base",
            "overflow": null,
            "_model_module_version": "1.2.0",
            "_view_count": null,
            "flex_flow": null,
            "width": null,
            "min_width": null,
            "border": null,
            "align_items": null,
            "bottom": null,
            "_model_module": "@jupyter-widgets/base",
            "top": null,
            "grid_column": null,
            "overflow_y": null,
            "overflow_x": null,
            "grid_auto_flow": null,
            "grid_area": null,
            "grid_template_columns": null,
            "flex": null,
            "_model_name": "LayoutModel",
            "justify_items": null,
            "grid_row": null,
            "max_height": null,
            "align_content": null,
            "visibility": null,
            "align_self": null,
            "height": null,
            "min_height": null,
            "padding": null,
            "grid_auto_rows": null,
            "grid_gap": null,
            "max_width": null,
            "order": null,
            "_view_module_version": "1.2.0",
            "grid_template_areas": null,
            "object_position": null,
            "object_fit": null,
            "grid_auto_columns": null,
            "margin": null,
            "display": null,
            "left": null
          }
        },
        "083d383e07794de39ce69d4e91e32282": {
          "model_module": "@jupyter-widgets/controls",
          "model_name": "ProgressStyleModel",
          "model_module_version": "1.5.0",
          "state": {
            "_view_name": "StyleView",
            "_model_name": "ProgressStyleModel",
            "description_width": "",
            "_view_module": "@jupyter-widgets/base",
            "_model_module_version": "1.5.0",
            "_view_count": null,
            "_view_module_version": "1.2.0",
            "bar_color": null,
            "_model_module": "@jupyter-widgets/controls"
          }
        },
        "a8a52787f03640bbb08c541e8af54f76": {
          "model_module": "@jupyter-widgets/base",
          "model_name": "LayoutModel",
          "model_module_version": "1.2.0",
          "state": {
            "_view_name": "LayoutView",
            "grid_template_rows": null,
            "right": null,
            "justify_content": null,
            "_view_module": "@jupyter-widgets/base",
            "overflow": null,
            "_model_module_version": "1.2.0",
            "_view_count": null,
            "flex_flow": null,
            "width": null,
            "min_width": null,
            "border": null,
            "align_items": null,
            "bottom": null,
            "_model_module": "@jupyter-widgets/base",
            "top": null,
            "grid_column": null,
            "overflow_y": null,
            "overflow_x": null,
            "grid_auto_flow": null,
            "grid_area": null,
            "grid_template_columns": null,
            "flex": null,
            "_model_name": "LayoutModel",
            "justify_items": null,
            "grid_row": null,
            "max_height": null,
            "align_content": null,
            "visibility": null,
            "align_self": null,
            "height": null,
            "min_height": null,
            "padding": null,
            "grid_auto_rows": null,
            "grid_gap": null,
            "max_width": null,
            "order": null,
            "_view_module_version": "1.2.0",
            "grid_template_areas": null,
            "object_position": null,
            "object_fit": null,
            "grid_auto_columns": null,
            "margin": null,
            "display": null,
            "left": null
          }
        },
        "dfaf023782f04da6a37b75c55b296f47": {
          "model_module": "@jupyter-widgets/controls",
          "model_name": "DescriptionStyleModel",
          "model_module_version": "1.5.0",
          "state": {
            "_view_name": "StyleView",
            "_model_name": "DescriptionStyleModel",
            "description_width": "",
            "_view_module": "@jupyter-widgets/base",
            "_model_module_version": "1.5.0",
            "_view_count": null,
            "_view_module_version": "1.2.0",
            "_model_module": "@jupyter-widgets/controls"
          }
        },
        "f4cf1f20d9e1454789cd43b16909096e": {
          "model_module": "@jupyter-widgets/base",
          "model_name": "LayoutModel",
          "model_module_version": "1.2.0",
          "state": {
            "_view_name": "LayoutView",
            "grid_template_rows": null,
            "right": null,
            "justify_content": null,
            "_view_module": "@jupyter-widgets/base",
            "overflow": null,
            "_model_module_version": "1.2.0",
            "_view_count": null,
            "flex_flow": null,
            "width": null,
            "min_width": null,
            "border": null,
            "align_items": null,
            "bottom": null,
            "_model_module": "@jupyter-widgets/base",
            "top": null,
            "grid_column": null,
            "overflow_y": null,
            "overflow_x": null,
            "grid_auto_flow": null,
            "grid_area": null,
            "grid_template_columns": null,
            "flex": null,
            "_model_name": "LayoutModel",
            "justify_items": null,
            "grid_row": null,
            "max_height": null,
            "align_content": null,
            "visibility": null,
            "align_self": null,
            "height": null,
            "min_height": null,
            "padding": null,
            "grid_auto_rows": null,
            "grid_gap": null,
            "max_width": null,
            "order": null,
            "_view_module_version": "1.2.0",
            "grid_template_areas": null,
            "object_position": null,
            "object_fit": null,
            "grid_auto_columns": null,
            "margin": null,
            "display": null,
            "left": null
          }
        },
        "fe69328d49d949d99c5b54327fc8ce37": {
          "model_module": "@jupyter-widgets/controls",
          "model_name": "HBoxModel",
          "model_module_version": "1.5.0",
          "state": {
            "_view_name": "HBoxView",
            "_dom_classes": [],
            "_model_name": "HBoxModel",
            "_view_module": "@jupyter-widgets/controls",
            "_model_module_version": "1.5.0",
            "_view_count": null,
            "_view_module_version": "1.5.0",
            "box_style": "",
            "layout": "IPY_MODEL_7c38b9755450435992743fe1c63580f1",
            "_model_module": "@jupyter-widgets/controls",
            "children": [
              "IPY_MODEL_74f4d8724b5d4cc4a87550e9aa029e54",
              "IPY_MODEL_1777626631024ee3b49b50ce1a151f53",
              "IPY_MODEL_cb8a3932ccdf4784924b81afbc75f038"
            ]
          }
        },
        "7c38b9755450435992743fe1c63580f1": {
          "model_module": "@jupyter-widgets/base",
          "model_name": "LayoutModel",
          "model_module_version": "1.2.0",
          "state": {
            "_view_name": "LayoutView",
            "grid_template_rows": null,
            "right": null,
            "justify_content": null,
            "_view_module": "@jupyter-widgets/base",
            "overflow": null,
            "_model_module_version": "1.2.0",
            "_view_count": null,
            "flex_flow": null,
            "width": null,
            "min_width": null,
            "border": null,
            "align_items": null,
            "bottom": null,
            "_model_module": "@jupyter-widgets/base",
            "top": null,
            "grid_column": null,
            "overflow_y": null,
            "overflow_x": null,
            "grid_auto_flow": null,
            "grid_area": null,
            "grid_template_columns": null,
            "flex": null,
            "_model_name": "LayoutModel",
            "justify_items": null,
            "grid_row": null,
            "max_height": null,
            "align_content": null,
            "visibility": null,
            "align_self": null,
            "height": null,
            "min_height": null,
            "padding": null,
            "grid_auto_rows": null,
            "grid_gap": null,
            "max_width": null,
            "order": null,
            "_view_module_version": "1.2.0",
            "grid_template_areas": null,
            "object_position": null,
            "object_fit": null,
            "grid_auto_columns": null,
            "margin": null,
            "display": null,
            "left": null
          }
        },
        "74f4d8724b5d4cc4a87550e9aa029e54": {
          "model_module": "@jupyter-widgets/controls",
          "model_name": "HTMLModel",
          "model_module_version": "1.5.0",
          "state": {
            "_view_name": "HTMLView",
            "style": "IPY_MODEL_570038c5d3cd43edbd3926efddc64a1f",
            "_dom_classes": [],
            "description": "",
            "_model_name": "HTMLModel",
            "placeholder": "​",
            "_view_module": "@jupyter-widgets/controls",
            "_model_module_version": "1.5.0",
            "value": "100%",
            "_view_count": null,
            "_view_module_version": "1.5.0",
            "description_tooltip": null,
            "_model_module": "@jupyter-widgets/controls",
            "layout": "IPY_MODEL_71b8466adab64e9b97043a3c65f4482a"
          }
        },
        "1777626631024ee3b49b50ce1a151f53": {
          "model_module": "@jupyter-widgets/controls",
          "model_name": "FloatProgressModel",
          "model_module_version": "1.5.0",
          "state": {
            "_view_name": "ProgressView",
            "style": "IPY_MODEL_e42adb225fa84ea1ac33fa382c07d91c",
            "_dom_classes": [],
            "description": "",
            "_model_name": "FloatProgressModel",
            "bar_style": "success",
            "max": 835,
            "_view_module": "@jupyter-widgets/controls",
            "_model_module_version": "1.5.0",
            "value": 835,
            "_view_count": null,
            "_view_module_version": "1.5.0",
            "orientation": "horizontal",
            "min": 0,
            "description_tooltip": null,
            "_model_module": "@jupyter-widgets/controls",
            "layout": "IPY_MODEL_134c1ac447984542885183cbab07f9f2"
          }
        },
        "cb8a3932ccdf4784924b81afbc75f038": {
          "model_module": "@jupyter-widgets/controls",
          "model_name": "HTMLModel",
          "model_module_version": "1.5.0",
          "state": {
            "_view_name": "HTMLView",
            "style": "IPY_MODEL_a7c8e4c8db154022b1639c8e8d7ddee4",
            "_dom_classes": [],
            "description": "",
            "_model_name": "HTMLModel",
            "placeholder": "​",
            "_view_module": "@jupyter-widgets/controls",
            "_model_module_version": "1.5.0",
            "value": " 835/835 [00:00&lt;00:00, 1666.00it/s]",
            "_view_count": null,
            "_view_module_version": "1.5.0",
            "description_tooltip": null,
            "_model_module": "@jupyter-widgets/controls",
            "layout": "IPY_MODEL_7996d591f08449b1bbd2806567c272e1"
          }
        },
        "570038c5d3cd43edbd3926efddc64a1f": {
          "model_module": "@jupyter-widgets/controls",
          "model_name": "DescriptionStyleModel",
          "model_module_version": "1.5.0",
          "state": {
            "_view_name": "StyleView",
            "_model_name": "DescriptionStyleModel",
            "description_width": "",
            "_view_module": "@jupyter-widgets/base",
            "_model_module_version": "1.5.0",
            "_view_count": null,
            "_view_module_version": "1.2.0",
            "_model_module": "@jupyter-widgets/controls"
          }
        },
        "71b8466adab64e9b97043a3c65f4482a": {
          "model_module": "@jupyter-widgets/base",
          "model_name": "LayoutModel",
          "model_module_version": "1.2.0",
          "state": {
            "_view_name": "LayoutView",
            "grid_template_rows": null,
            "right": null,
            "justify_content": null,
            "_view_module": "@jupyter-widgets/base",
            "overflow": null,
            "_model_module_version": "1.2.0",
            "_view_count": null,
            "flex_flow": null,
            "width": null,
            "min_width": null,
            "border": null,
            "align_items": null,
            "bottom": null,
            "_model_module": "@jupyter-widgets/base",
            "top": null,
            "grid_column": null,
            "overflow_y": null,
            "overflow_x": null,
            "grid_auto_flow": null,
            "grid_area": null,
            "grid_template_columns": null,
            "flex": null,
            "_model_name": "LayoutModel",
            "justify_items": null,
            "grid_row": null,
            "max_height": null,
            "align_content": null,
            "visibility": null,
            "align_self": null,
            "height": null,
            "min_height": null,
            "padding": null,
            "grid_auto_rows": null,
            "grid_gap": null,
            "max_width": null,
            "order": null,
            "_view_module_version": "1.2.0",
            "grid_template_areas": null,
            "object_position": null,
            "object_fit": null,
            "grid_auto_columns": null,
            "margin": null,
            "display": null,
            "left": null
          }
        },
        "e42adb225fa84ea1ac33fa382c07d91c": {
          "model_module": "@jupyter-widgets/controls",
          "model_name": "ProgressStyleModel",
          "model_module_version": "1.5.0",
          "state": {
            "_view_name": "StyleView",
            "_model_name": "ProgressStyleModel",
            "description_width": "",
            "_view_module": "@jupyter-widgets/base",
            "_model_module_version": "1.5.0",
            "_view_count": null,
            "_view_module_version": "1.2.0",
            "bar_color": null,
            "_model_module": "@jupyter-widgets/controls"
          }
        },
        "134c1ac447984542885183cbab07f9f2": {
          "model_module": "@jupyter-widgets/base",
          "model_name": "LayoutModel",
          "model_module_version": "1.2.0",
          "state": {
            "_view_name": "LayoutView",
            "grid_template_rows": null,
            "right": null,
            "justify_content": null,
            "_view_module": "@jupyter-widgets/base",
            "overflow": null,
            "_model_module_version": "1.2.0",
            "_view_count": null,
            "flex_flow": null,
            "width": null,
            "min_width": null,
            "border": null,
            "align_items": null,
            "bottom": null,
            "_model_module": "@jupyter-widgets/base",
            "top": null,
            "grid_column": null,
            "overflow_y": null,
            "overflow_x": null,
            "grid_auto_flow": null,
            "grid_area": null,
            "grid_template_columns": null,
            "flex": null,
            "_model_name": "LayoutModel",
            "justify_items": null,
            "grid_row": null,
            "max_height": null,
            "align_content": null,
            "visibility": null,
            "align_self": null,
            "height": null,
            "min_height": null,
            "padding": null,
            "grid_auto_rows": null,
            "grid_gap": null,
            "max_width": null,
            "order": null,
            "_view_module_version": "1.2.0",
            "grid_template_areas": null,
            "object_position": null,
            "object_fit": null,
            "grid_auto_columns": null,
            "margin": null,
            "display": null,
            "left": null
          }
        },
        "a7c8e4c8db154022b1639c8e8d7ddee4": {
          "model_module": "@jupyter-widgets/controls",
          "model_name": "DescriptionStyleModel",
          "model_module_version": "1.5.0",
          "state": {
            "_view_name": "StyleView",
            "_model_name": "DescriptionStyleModel",
            "description_width": "",
            "_view_module": "@jupyter-widgets/base",
            "_model_module_version": "1.5.0",
            "_view_count": null,
            "_view_module_version": "1.2.0",
            "_model_module": "@jupyter-widgets/controls"
          }
        },
        "7996d591f08449b1bbd2806567c272e1": {
          "model_module": "@jupyter-widgets/base",
          "model_name": "LayoutModel",
          "model_module_version": "1.2.0",
          "state": {
            "_view_name": "LayoutView",
            "grid_template_rows": null,
            "right": null,
            "justify_content": null,
            "_view_module": "@jupyter-widgets/base",
            "overflow": null,
            "_model_module_version": "1.2.0",
            "_view_count": null,
            "flex_flow": null,
            "width": null,
            "min_width": null,
            "border": null,
            "align_items": null,
            "bottom": null,
            "_model_module": "@jupyter-widgets/base",
            "top": null,
            "grid_column": null,
            "overflow_y": null,
            "overflow_x": null,
            "grid_auto_flow": null,
            "grid_area": null,
            "grid_template_columns": null,
            "flex": null,
            "_model_name": "LayoutModel",
            "justify_items": null,
            "grid_row": null,
            "max_height": null,
            "align_content": null,
            "visibility": null,
            "align_self": null,
            "height": null,
            "min_height": null,
            "padding": null,
            "grid_auto_rows": null,
            "grid_gap": null,
            "max_width": null,
            "order": null,
            "_view_module_version": "1.2.0",
            "grid_template_areas": null,
            "object_position": null,
            "object_fit": null,
            "grid_auto_columns": null,
            "margin": null,
            "display": null,
            "left": null
          }
        },
        "dee902cc0d7e49119d3efe7a27f94bf4": {
          "model_module": "@jupyter-widgets/controls",
          "model_name": "HBoxModel",
          "model_module_version": "1.5.0",
          "state": {
            "_view_name": "HBoxView",
            "_dom_classes": [],
            "_model_name": "HBoxModel",
            "_view_module": "@jupyter-widgets/controls",
            "_model_module_version": "1.5.0",
            "_view_count": null,
            "_view_module_version": "1.5.0",
            "box_style": "",
            "layout": "IPY_MODEL_2509e1d1a68840eabb53b4948492eff8",
            "_model_module": "@jupyter-widgets/controls",
            "children": [
              "IPY_MODEL_859687e645d54cc0adac2c3228e45851",
              "IPY_MODEL_f91d0871b4d64e9a848458b5259035a9",
              "IPY_MODEL_4442971e22c848faba3a92a0c435e19f"
            ]
          }
        },
        "2509e1d1a68840eabb53b4948492eff8": {
          "model_module": "@jupyter-widgets/base",
          "model_name": "LayoutModel",
          "model_module_version": "1.2.0",
          "state": {
            "_view_name": "LayoutView",
            "grid_template_rows": null,
            "right": null,
            "justify_content": null,
            "_view_module": "@jupyter-widgets/base",
            "overflow": null,
            "_model_module_version": "1.2.0",
            "_view_count": null,
            "flex_flow": null,
            "width": null,
            "min_width": null,
            "border": null,
            "align_items": null,
            "bottom": null,
            "_model_module": "@jupyter-widgets/base",
            "top": null,
            "grid_column": null,
            "overflow_y": null,
            "overflow_x": null,
            "grid_auto_flow": null,
            "grid_area": null,
            "grid_template_columns": null,
            "flex": null,
            "_model_name": "LayoutModel",
            "justify_items": null,
            "grid_row": null,
            "max_height": null,
            "align_content": null,
            "visibility": null,
            "align_self": null,
            "height": null,
            "min_height": null,
            "padding": null,
            "grid_auto_rows": null,
            "grid_gap": null,
            "max_width": null,
            "order": null,
            "_view_module_version": "1.2.0",
            "grid_template_areas": null,
            "object_position": null,
            "object_fit": null,
            "grid_auto_columns": null,
            "margin": null,
            "display": null,
            "left": null
          }
        },
        "859687e645d54cc0adac2c3228e45851": {
          "model_module": "@jupyter-widgets/controls",
          "model_name": "HTMLModel",
          "model_module_version": "1.5.0",
          "state": {
            "_view_name": "HTMLView",
            "style": "IPY_MODEL_e2838762ff394fa49dd05e5d8d7d57a6",
            "_dom_classes": [],
            "description": "",
            "_model_name": "HTMLModel",
            "placeholder": "​",
            "_view_module": "@jupyter-widgets/controls",
            "_model_module_version": "1.5.0",
            "value": " 50%",
            "_view_count": null,
            "_view_module_version": "1.5.0",
            "description_tooltip": null,
            "_model_module": "@jupyter-widgets/controls",
            "layout": "IPY_MODEL_c1cfb73f0a3e4ca5b16acbad6719c933"
          }
        },
        "f91d0871b4d64e9a848458b5259035a9": {
          "model_module": "@jupyter-widgets/controls",
          "model_name": "FloatProgressModel",
          "model_module_version": "1.5.0",
          "state": {
            "_view_name": "ProgressView",
            "style": "IPY_MODEL_4a0ff12895284cbcb3a32e2e6424b38e",
            "_dom_classes": [],
            "description": "",
            "_model_name": "FloatProgressModel",
            "bar_style": "danger",
            "max": 10,
            "_view_module": "@jupyter-widgets/controls",
            "_model_module_version": "1.5.0",
            "value": 5,
            "_view_count": null,
            "_view_module_version": "1.5.0",
            "orientation": "horizontal",
            "min": 0,
            "description_tooltip": null,
            "_model_module": "@jupyter-widgets/controls",
            "layout": "IPY_MODEL_674e859024c04bb9936a49c0e520e61a"
          }
        },
        "4442971e22c848faba3a92a0c435e19f": {
          "model_module": "@jupyter-widgets/controls",
          "model_name": "HTMLModel",
          "model_module_version": "1.5.0",
          "state": {
            "_view_name": "HTMLView",
            "style": "IPY_MODEL_e1ec581ef6d446e9b96e5f05bd3082ed",
            "_dom_classes": [],
            "description": "",
            "_model_name": "HTMLModel",
            "placeholder": "​",
            "_view_module": "@jupyter-widgets/controls",
            "_model_module_version": "1.5.0",
            "value": " 5/10 [00:08&lt;00:07,  1.49s/it]",
            "_view_count": null,
            "_view_module_version": "1.5.0",
            "description_tooltip": null,
            "_model_module": "@jupyter-widgets/controls",
            "layout": "IPY_MODEL_67fc9a3bf2a14958ae6e6149acd50f2a"
          }
        },
        "e2838762ff394fa49dd05e5d8d7d57a6": {
          "model_module": "@jupyter-widgets/controls",
          "model_name": "DescriptionStyleModel",
          "model_module_version": "1.5.0",
          "state": {
            "_view_name": "StyleView",
            "_model_name": "DescriptionStyleModel",
            "description_width": "",
            "_view_module": "@jupyter-widgets/base",
            "_model_module_version": "1.5.0",
            "_view_count": null,
            "_view_module_version": "1.2.0",
            "_model_module": "@jupyter-widgets/controls"
          }
        },
        "c1cfb73f0a3e4ca5b16acbad6719c933": {
          "model_module": "@jupyter-widgets/base",
          "model_name": "LayoutModel",
          "model_module_version": "1.2.0",
          "state": {
            "_view_name": "LayoutView",
            "grid_template_rows": null,
            "right": null,
            "justify_content": null,
            "_view_module": "@jupyter-widgets/base",
            "overflow": null,
            "_model_module_version": "1.2.0",
            "_view_count": null,
            "flex_flow": null,
            "width": null,
            "min_width": null,
            "border": null,
            "align_items": null,
            "bottom": null,
            "_model_module": "@jupyter-widgets/base",
            "top": null,
            "grid_column": null,
            "overflow_y": null,
            "overflow_x": null,
            "grid_auto_flow": null,
            "grid_area": null,
            "grid_template_columns": null,
            "flex": null,
            "_model_name": "LayoutModel",
            "justify_items": null,
            "grid_row": null,
            "max_height": null,
            "align_content": null,
            "visibility": null,
            "align_self": null,
            "height": null,
            "min_height": null,
            "padding": null,
            "grid_auto_rows": null,
            "grid_gap": null,
            "max_width": null,
            "order": null,
            "_view_module_version": "1.2.0",
            "grid_template_areas": null,
            "object_position": null,
            "object_fit": null,
            "grid_auto_columns": null,
            "margin": null,
            "display": null,
            "left": null
          }
        },
        "4a0ff12895284cbcb3a32e2e6424b38e": {
          "model_module": "@jupyter-widgets/controls",
          "model_name": "ProgressStyleModel",
          "model_module_version": "1.5.0",
          "state": {
            "_view_name": "StyleView",
            "_model_name": "ProgressStyleModel",
            "description_width": "",
            "_view_module": "@jupyter-widgets/base",
            "_model_module_version": "1.5.0",
            "_view_count": null,
            "_view_module_version": "1.2.0",
            "bar_color": null,
            "_model_module": "@jupyter-widgets/controls"
          }
        },
        "674e859024c04bb9936a49c0e520e61a": {
          "model_module": "@jupyter-widgets/base",
          "model_name": "LayoutModel",
          "model_module_version": "1.2.0",
          "state": {
            "_view_name": "LayoutView",
            "grid_template_rows": null,
            "right": null,
            "justify_content": null,
            "_view_module": "@jupyter-widgets/base",
            "overflow": null,
            "_model_module_version": "1.2.0",
            "_view_count": null,
            "flex_flow": null,
            "width": null,
            "min_width": null,
            "border": null,
            "align_items": null,
            "bottom": null,
            "_model_module": "@jupyter-widgets/base",
            "top": null,
            "grid_column": null,
            "overflow_y": null,
            "overflow_x": null,
            "grid_auto_flow": null,
            "grid_area": null,
            "grid_template_columns": null,
            "flex": null,
            "_model_name": "LayoutModel",
            "justify_items": null,
            "grid_row": null,
            "max_height": null,
            "align_content": null,
            "visibility": null,
            "align_self": null,
            "height": null,
            "min_height": null,
            "padding": null,
            "grid_auto_rows": null,
            "grid_gap": null,
            "max_width": null,
            "order": null,
            "_view_module_version": "1.2.0",
            "grid_template_areas": null,
            "object_position": null,
            "object_fit": null,
            "grid_auto_columns": null,
            "margin": null,
            "display": null,
            "left": null
          }
        },
        "e1ec581ef6d446e9b96e5f05bd3082ed": {
          "model_module": "@jupyter-widgets/controls",
          "model_name": "DescriptionStyleModel",
          "model_module_version": "1.5.0",
          "state": {
            "_view_name": "StyleView",
            "_model_name": "DescriptionStyleModel",
            "description_width": "",
            "_view_module": "@jupyter-widgets/base",
            "_model_module_version": "1.5.0",
            "_view_count": null,
            "_view_module_version": "1.2.0",
            "_model_module": "@jupyter-widgets/controls"
          }
        },
        "67fc9a3bf2a14958ae6e6149acd50f2a": {
          "model_module": "@jupyter-widgets/base",
          "model_name": "LayoutModel",
          "model_module_version": "1.2.0",
          "state": {
            "_view_name": "LayoutView",
            "grid_template_rows": null,
            "right": null,
            "justify_content": null,
            "_view_module": "@jupyter-widgets/base",
            "overflow": null,
            "_model_module_version": "1.2.0",
            "_view_count": null,
            "flex_flow": null,
            "width": null,
            "min_width": null,
            "border": null,
            "align_items": null,
            "bottom": null,
            "_model_module": "@jupyter-widgets/base",
            "top": null,
            "grid_column": null,
            "overflow_y": null,
            "overflow_x": null,
            "grid_auto_flow": null,
            "grid_area": null,
            "grid_template_columns": null,
            "flex": null,
            "_model_name": "LayoutModel",
            "justify_items": null,
            "grid_row": null,
            "max_height": null,
            "align_content": null,
            "visibility": null,
            "align_self": null,
            "height": null,
            "min_height": null,
            "padding": null,
            "grid_auto_rows": null,
            "grid_gap": null,
            "max_width": null,
            "order": null,
            "_view_module_version": "1.2.0",
            "grid_template_areas": null,
            "object_position": null,
            "object_fit": null,
            "grid_auto_columns": null,
            "margin": null,
            "display": null,
            "left": null
          }
        }
      }
    },
    "accelerator": "GPU"
  },
  "cells": [
    {
      "cell_type": "markdown",
      "metadata": {
        "id": "yBnmbg-jdztQ"
      },
      "source": [
        "# HW2: Spam classification with LSTM\n",
        "\n",
        "The deadline is **9:30 am Feb 16, 2022**.   \n",
        "You should submit a `.ipynb` file with your solutions to NYU Brightspace.\n",
        "\n",
        "---\n",
        "\n",
        "In this homework, we will reuse the spam prediction dataset used in HW1.\n",
        "We will use a word-level BiLSTM sentence encoder to encode the sentence and a neural network classifier.\n",
        "\n",
        "For reference, you may read [this paper](https://arxiv.org/abs/1705.02364).\n",
        "\n",
        "Lab 3 is especially relevant to this homework.\n",
        "\n",
        "## Points distribution\n",
        "\n",
        "1. code `spam_collate_func`: 25 pts\n",
        "2. code `LSTMClassifier.init`: 25 pts\n",
        "3. code `LSTMClassifier.forward`: 20 pts\n",
        "4. code `evaluate`: 10 pts\n",
        "5. code for training loop: 10 pts\n",
        "6. Question on early stopping: 10 pts\n",
        "\n",
        "How we grade the code: \n",
        "- full points if code works and the underlying logic is correct;\n",
        "- half points if code works but the underlying logic is incorrect;\n",
        "- zero points if code does not work.\n",
        "\n",
        "Therefore, **make sure your code works, i.e., no error is being produced when you execute the code.**\n"
      ]
    },
    {
      "cell_type": "markdown",
      "metadata": {
        "id": "TKJv-b6RewJn"
      },
      "source": [
        "# Data Loading\n",
        "First, reuse the code from HW1 to download and read the data."
      ]
    },
    {
      "cell_type": "code",
      "metadata": {
        "id": "QoiahW1_fZ6p",
        "colab": {
          "base_uri": "https://localhost:8080/"
        },
        "outputId": "1b67f702-55f1-4cfa-aa85-6b1046c794bc"
      },
      "source": [
        "!wget 'https://docs.google.com/uc?export=download&id=1OVRo37agn02mc6yp5p6-wtJ8Hyb-YMXR' -O spam.csv"
      ],
      "execution_count": 1,
      "outputs": [
        {
          "output_type": "stream",
          "name": "stdout",
          "text": [
            "--2022-02-15 00:47:01--  https://docs.google.com/uc?export=download&id=1OVRo37agn02mc6yp5p6-wtJ8Hyb-YMXR\n",
            "Resolving docs.google.com (docs.google.com)... 142.250.81.206, 2607:f8b0:4004:82f::200e\n",
            "Connecting to docs.google.com (docs.google.com)|142.250.81.206|:443... connected.\n",
            "HTTP request sent, awaiting response... 302 Moved Temporarily\n",
            "Location: https://doc-14-04-docs.googleusercontent.com/docs/securesc/ha0ro937gcuc7l7deffksulhg5h7mbp1/caipad03d3ncrselppk8o4u4lb8k2m1k/1644885975000/08752484438609855375/*/1OVRo37agn02mc6yp5p6-wtJ8Hyb-YMXR?e=download [following]\n",
            "Warning: wildcards not supported in HTTP.\n",
            "--2022-02-15 00:47:01--  https://doc-14-04-docs.googleusercontent.com/docs/securesc/ha0ro937gcuc7l7deffksulhg5h7mbp1/caipad03d3ncrselppk8o4u4lb8k2m1k/1644885975000/08752484438609855375/*/1OVRo37agn02mc6yp5p6-wtJ8Hyb-YMXR?e=download\n",
            "Resolving doc-14-04-docs.googleusercontent.com (doc-14-04-docs.googleusercontent.com)... 172.217.164.129, 2607:f8b0:4004:814::2001\n",
            "Connecting to doc-14-04-docs.googleusercontent.com (doc-14-04-docs.googleusercontent.com)|172.217.164.129|:443... connected.\n",
            "HTTP request sent, awaiting response... 200 OK\n",
            "Length: 503663 (492K) [text/csv]\n",
            "Saving to: ‘spam.csv’\n",
            "\n",
            "spam.csv            100%[===================>] 491.86K  --.-KB/s    in 0.04s   \n",
            "\n",
            "2022-02-15 00:47:01 (11.9 MB/s) - ‘spam.csv’ saved [503663/503663]\n",
            "\n"
          ]
        }
      ]
    },
    {
      "cell_type": "code",
      "metadata": {
        "id": "I52OxyBgfi_j",
        "colab": {
          "base_uri": "https://localhost:8080/",
          "height": 228
        },
        "outputId": "f62a8b9b-d3c0-4b04-97a3-34f8cce762ca"
      },
      "source": [
        "import pandas as pd\n",
        "import numpy as np\n",
        "\n",
        "df = pd.read_csv(\"spam.csv\", usecols=[\"v1\", \"v2\"], encoding='latin-1')\n",
        "# 1 - spam, 0 - ham\n",
        "df.v1 = (df.v1 == \"spam\").astype(\"int\")\n",
        "df.head()"
      ],
      "execution_count": 2,
      "outputs": [
        {
          "output_type": "execute_result",
          "data": {
            "text/html": [
              "\n",
              "  <div id=\"df-6dbe3131-f28a-4fe4-a975-0d27408ff98b\">\n",
              "    <div class=\"colab-df-container\">\n",
              "      <div>\n",
              "<style scoped>\n",
              "    .dataframe tbody tr th:only-of-type {\n",
              "        vertical-align: middle;\n",
              "    }\n",
              "\n",
              "    .dataframe tbody tr th {\n",
              "        vertical-align: top;\n",
              "    }\n",
              "\n",
              "    .dataframe thead th {\n",
              "        text-align: right;\n",
              "    }\n",
              "</style>\n",
              "<table border=\"1\" class=\"dataframe\">\n",
              "  <thead>\n",
              "    <tr style=\"text-align: right;\">\n",
              "      <th></th>\n",
              "      <th>v1</th>\n",
              "      <th>v2</th>\n",
              "    </tr>\n",
              "  </thead>\n",
              "  <tbody>\n",
              "    <tr>\n",
              "      <th>0</th>\n",
              "      <td>0</td>\n",
              "      <td>Go until jurong point, crazy.. Available only ...</td>\n",
              "    </tr>\n",
              "    <tr>\n",
              "      <th>1</th>\n",
              "      <td>0</td>\n",
              "      <td>Ok lar... Joking wif u oni...</td>\n",
              "    </tr>\n",
              "    <tr>\n",
              "      <th>2</th>\n",
              "      <td>1</td>\n",
              "      <td>Free entry in 2 a wkly comp to win FA Cup fina...</td>\n",
              "    </tr>\n",
              "    <tr>\n",
              "      <th>3</th>\n",
              "      <td>0</td>\n",
              "      <td>U dun say so early hor... U c already then say...</td>\n",
              "    </tr>\n",
              "    <tr>\n",
              "      <th>4</th>\n",
              "      <td>0</td>\n",
              "      <td>Nah I don't think he goes to usf, he lives aro...</td>\n",
              "    </tr>\n",
              "  </tbody>\n",
              "</table>\n",
              "</div>\n",
              "      <button class=\"colab-df-convert\" onclick=\"convertToInteractive('df-6dbe3131-f28a-4fe4-a975-0d27408ff98b')\"\n",
              "              title=\"Convert this dataframe to an interactive table.\"\n",
              "              style=\"display:none;\">\n",
              "        \n",
              "  <svg xmlns=\"http://www.w3.org/2000/svg\" height=\"24px\"viewBox=\"0 0 24 24\"\n",
              "       width=\"24px\">\n",
              "    <path d=\"M0 0h24v24H0V0z\" fill=\"none\"/>\n",
              "    <path d=\"M18.56 5.44l.94 2.06.94-2.06 2.06-.94-2.06-.94-.94-2.06-.94 2.06-2.06.94zm-11 1L8.5 8.5l.94-2.06 2.06-.94-2.06-.94L8.5 2.5l-.94 2.06-2.06.94zm10 10l.94 2.06.94-2.06 2.06-.94-2.06-.94-.94-2.06-.94 2.06-2.06.94z\"/><path d=\"M17.41 7.96l-1.37-1.37c-.4-.4-.92-.59-1.43-.59-.52 0-1.04.2-1.43.59L10.3 9.45l-7.72 7.72c-.78.78-.78 2.05 0 2.83L4 21.41c.39.39.9.59 1.41.59.51 0 1.02-.2 1.41-.59l7.78-7.78 2.81-2.81c.8-.78.8-2.07 0-2.86zM5.41 20L4 18.59l7.72-7.72 1.47 1.35L5.41 20z\"/>\n",
              "  </svg>\n",
              "      </button>\n",
              "      \n",
              "  <style>\n",
              "    .colab-df-container {\n",
              "      display:flex;\n",
              "      flex-wrap:wrap;\n",
              "      gap: 12px;\n",
              "    }\n",
              "\n",
              "    .colab-df-convert {\n",
              "      background-color: #E8F0FE;\n",
              "      border: none;\n",
              "      border-radius: 50%;\n",
              "      cursor: pointer;\n",
              "      display: none;\n",
              "      fill: #1967D2;\n",
              "      height: 32px;\n",
              "      padding: 0 0 0 0;\n",
              "      width: 32px;\n",
              "    }\n",
              "\n",
              "    .colab-df-convert:hover {\n",
              "      background-color: #E2EBFA;\n",
              "      box-shadow: 0px 1px 2px rgba(60, 64, 67, 0.3), 0px 1px 3px 1px rgba(60, 64, 67, 0.15);\n",
              "      fill: #174EA6;\n",
              "    }\n",
              "\n",
              "    [theme=dark] .colab-df-convert {\n",
              "      background-color: #3B4455;\n",
              "      fill: #D2E3FC;\n",
              "    }\n",
              "\n",
              "    [theme=dark] .colab-df-convert:hover {\n",
              "      background-color: #434B5C;\n",
              "      box-shadow: 0px 1px 3px 1px rgba(0, 0, 0, 0.15);\n",
              "      filter: drop-shadow(0px 1px 2px rgba(0, 0, 0, 0.3));\n",
              "      fill: #FFFFFF;\n",
              "    }\n",
              "  </style>\n",
              "\n",
              "      <script>\n",
              "        const buttonEl =\n",
              "          document.querySelector('#df-6dbe3131-f28a-4fe4-a975-0d27408ff98b button.colab-df-convert');\n",
              "        buttonEl.style.display =\n",
              "          google.colab.kernel.accessAllowed ? 'block' : 'none';\n",
              "\n",
              "        async function convertToInteractive(key) {\n",
              "          const element = document.querySelector('#df-6dbe3131-f28a-4fe4-a975-0d27408ff98b');\n",
              "          const dataTable =\n",
              "            await google.colab.kernel.invokeFunction('convertToInteractive',\n",
              "                                                     [key], {});\n",
              "          if (!dataTable) return;\n",
              "\n",
              "          const docLinkHtml = 'Like what you see? Visit the ' +\n",
              "            '<a target=\"_blank\" href=https://colab.research.google.com/notebooks/data_table.ipynb>data table notebook</a>'\n",
              "            + ' to learn more about interactive tables.';\n",
              "          element.innerHTML = '';\n",
              "          dataTable['output_type'] = 'display_data';\n",
              "          await google.colab.output.renderOutput(dataTable, element);\n",
              "          const docLink = document.createElement('div');\n",
              "          docLink.innerHTML = docLinkHtml;\n",
              "          element.appendChild(docLink);\n",
              "        }\n",
              "      </script>\n",
              "    </div>\n",
              "  </div>\n",
              "  "
            ],
            "text/plain": [
              "   v1                                                 v2\n",
              "0   0  Go until jurong point, crazy.. Available only ...\n",
              "1   0                      Ok lar... Joking wif u oni...\n",
              "2   1  Free entry in 2 a wkly comp to win FA Cup fina...\n",
              "3   0  U dun say so early hor... U c already then say...\n",
              "4   0  Nah I don't think he goes to usf, he lives aro..."
            ]
          },
          "metadata": {},
          "execution_count": 2
        }
      ]
    },
    {
      "cell_type": "markdown",
      "metadata": {
        "id": "pCihb3oogn27"
      },
      "source": [
        "We will split the data into train, val, and test sets.  \n",
        "`train_texts`, `val_texts`, and `test_texts` should contain a list of text examples in the dataset.\n"
      ]
    },
    {
      "cell_type": "code",
      "metadata": {
        "id": "0H78E3FLgEA2",
        "colab": {
          "base_uri": "https://localhost:8080/"
        },
        "outputId": "f0bd1258-ffd4-4da0-d7a5-bd98b60a9769"
      },
      "source": [
        "# 0.15 for val, 0.15 for test, 0.7 for train\n",
        "val_size = int(df.shape[0] * 0.15)\n",
        "test_size = int(df.shape[0] * 0.15)\n",
        "\n",
        "# Shuffle the data\n",
        "df = df.sample(frac=1)\n",
        "# Split df to test/val/train\n",
        "test_df = df[:test_size]\n",
        "val_df = df[test_size:test_size+val_size]\n",
        "train_df = df[test_size+val_size:]\n",
        "\n",
        "\n",
        "train_texts, train_labels = list(train_df.v2), list(train_df.v1)\n",
        "val_texts, val_labels     = list(val_df.v2), list(val_df.v1)\n",
        "test_texts, test_labels   = list(test_df.v2), list(test_df.v1)\n",
        "\n",
        "\n",
        "# Check that idces do not overlap\n",
        "assert set(train_df.index).intersection(set(val_df.index)) == set({})\n",
        "assert set(test_df.index).intersection(set(train_df.index)) == set({})\n",
        "assert set(val_df.index).intersection(set(test_df.index)) == set({})\n",
        "# Check that all idces are present\n",
        "assert df.shape[0] == len(train_labels) + len(val_labels) + len(test_labels)\n",
        "\n",
        "# Sizes\n",
        "print(\n",
        "    f\"Size of initial data: {df.shape[0]}\\n\"\n",
        "    f\"Train size: {len(train_labels)}\\n\"\n",
        "    f\"Val size: {len(val_labels)}\\n\"\n",
        "    f\"Test size: {len(test_labels)}\\n\"\n",
        ")"
      ],
      "execution_count": 3,
      "outputs": [
        {
          "output_type": "stream",
          "name": "stdout",
          "text": [
            "Size of initial data: 5572\n",
            "Train size: 3902\n",
            "Val size: 835\n",
            "Test size: 835\n",
            "\n"
          ]
        }
      ]
    },
    {
      "cell_type": "code",
      "metadata": {
        "id": "FX8D130ngVxu",
        "colab": {
          "base_uri": "https://localhost:8080/"
        },
        "outputId": "dfa3af75-1869-404e-c08b-427d291bc23f"
      },
      "source": [
        "train_texts[:10]  # Just checking the examples in train_text"
      ],
      "execution_count": 4,
      "outputs": [
        {
          "output_type": "execute_result",
          "data": {
            "text/plain": [
              "['Last Chance! Claim ur å£150 worth of discount vouchers today! Text SHOP to 85023 now! SavaMob, offers mobile! T Cs SavaMob POBOX84, M263UZ. å£3.00 Sub. 16',\n",
              " 'No pic. Please re-send.',\n",
              " 'Hi baby ive just got back from work and i was wanting to see u allday! I hope i didnt piss u off on the phone today. If u are up give me a call xxx',\n",
              " 'Haha, my legs and neck are killing me and my amigos are hoping to end the night with a burn, think I could swing by in like an hour?',\n",
              " 'Shuhui say change 2 suntec steamboat? U noe where? Where r u now?',\n",
              " 'Aiyo a bit pai seh Ì_ noe... Scared he dun rem who i am then die... Hee... But he become better lookin oredi leh...',\n",
              " 'Sounds like you have many talents! would you like to go on a dinner date next week?',\n",
              " 'We are pleased to inform that your application for Airtel Broadband is processed successfully. Your installation will happen within 3 days.',\n",
              " \"I'm not coming home 4 dinner.\",\n",
              " \"You won't believe it but it's true. It's Incredible Txts! Reply G now to learn truly amazing things that will blow your mind. From O2FWD only 18p/txt\"]"
            ]
          },
          "metadata": {},
          "execution_count": 4
        }
      ]
    },
    {
      "cell_type": "markdown",
      "metadata": {
        "id": "4Sm_iuR_hJp2"
      },
      "source": [
        "# Download and Load GloVe Embeddings\n",
        "We will use GloVe embedding parameters to initialize our layer of word representations / embedding layer.\n",
        "Let's download and load glove.\n",
        "\n",
        "\n",
        "This is related Lab 3 Deep Learning, please watch the recording and check the notebook for details.\n"
      ]
    },
    {
      "cell_type": "code",
      "metadata": {
        "id": "HRCcCtcSjEPR",
        "colab": {
          "base_uri": "https://localhost:8080/"
        },
        "outputId": "143f4784-9c46-4250-de95-95f52a807e63"
      },
      "source": [
        "#@title Download GloVe word embeddings\n",
        "\n",
        "# === Download GloVe word embeddings\n",
        "# !wget http://nlp.stanford.edu/data/glove.6B.zip\n",
        "\n",
        "# === Unzip word embeddings and use only the top 50000 word embeddings for speed\n",
        "# !unzip glove.6B.zip\n",
        "# !head -n 50000 glove.6B.300d.txt > glove.6B.300d__50k.txt\n",
        "\n",
        "# === Download Preprocessed version\n",
        "!wget https://docs.google.com/uc?id=1KMJTagaVD9hFHXFTPtNk0u2JjvNlyCAu -O glove_split.aa\n",
        "!wget https://docs.google.com/uc?id=1LF2yD2jToXriyD-lsYA5hj03f7J3ZKaY -O glove_split.ab\n",
        "!wget https://docs.google.com/uc?id=1N1xnxkRyM5Gar7sv4d41alyTL92Iip3f -O glove_split.ac\n",
        "!cat glove_split.?? > 'glove.6B.300d__50k.txt'"
      ],
      "execution_count": 5,
      "outputs": [
        {
          "output_type": "stream",
          "name": "stdout",
          "text": [
            "--2022-02-15 00:47:01--  https://docs.google.com/uc?id=1KMJTagaVD9hFHXFTPtNk0u2JjvNlyCAu\n",
            "Resolving docs.google.com (docs.google.com)... 142.250.81.206, 2607:f8b0:4004:82f::200e\n",
            "Connecting to docs.google.com (docs.google.com)|142.250.81.206|:443... connected.\n",
            "HTTP request sent, awaiting response... 303 See Other\n",
            "Location: https://doc-0k-0g-docs.googleusercontent.com/docs/securesc/ha0ro937gcuc7l7deffksulhg5h7mbp1/iepb7b2v6q2si8dtnu5eafrb320ehbi7/1644885975000/14514704803973256873/*/1KMJTagaVD9hFHXFTPtNk0u2JjvNlyCAu [following]\n",
            "Warning: wildcards not supported in HTTP.\n",
            "--2022-02-15 00:47:02--  https://doc-0k-0g-docs.googleusercontent.com/docs/securesc/ha0ro937gcuc7l7deffksulhg5h7mbp1/iepb7b2v6q2si8dtnu5eafrb320ehbi7/1644885975000/14514704803973256873/*/1KMJTagaVD9hFHXFTPtNk0u2JjvNlyCAu\n",
            "Resolving doc-0k-0g-docs.googleusercontent.com (doc-0k-0g-docs.googleusercontent.com)... 172.217.164.129, 2607:f8b0:4004:814::2001\n",
            "Connecting to doc-0k-0g-docs.googleusercontent.com (doc-0k-0g-docs.googleusercontent.com)|172.217.164.129|:443... connected.\n",
            "HTTP request sent, awaiting response... 200 OK\n",
            "Length: 52428800 (50M) [audio/audible]\n",
            "Saving to: ‘glove_split.aa’\n",
            "\n",
            "glove_split.aa      100%[===================>]  50.00M   111MB/s    in 0.4s    \n",
            "\n",
            "2022-02-15 00:47:03 (111 MB/s) - ‘glove_split.aa’ saved [52428800/52428800]\n",
            "\n",
            "--2022-02-15 00:47:03--  https://docs.google.com/uc?id=1LF2yD2jToXriyD-lsYA5hj03f7J3ZKaY\n",
            "Resolving docs.google.com (docs.google.com)... 142.250.81.206, 2607:f8b0:4004:811::200e\n",
            "Connecting to docs.google.com (docs.google.com)|142.250.81.206|:443... connected.\n",
            "HTTP request sent, awaiting response... 303 See Other\n",
            "Location: https://doc-08-0g-docs.googleusercontent.com/docs/securesc/ha0ro937gcuc7l7deffksulhg5h7mbp1/vn98c5ai85vljtf5639p1h74sf732r57/1644885975000/14514704803973256873/*/1LF2yD2jToXriyD-lsYA5hj03f7J3ZKaY [following]\n",
            "Warning: wildcards not supported in HTTP.\n",
            "--2022-02-15 00:47:04--  https://doc-08-0g-docs.googleusercontent.com/docs/securesc/ha0ro937gcuc7l7deffksulhg5h7mbp1/vn98c5ai85vljtf5639p1h74sf732r57/1644885975000/14514704803973256873/*/1LF2yD2jToXriyD-lsYA5hj03f7J3ZKaY\n",
            "Resolving doc-08-0g-docs.googleusercontent.com (doc-08-0g-docs.googleusercontent.com)... 172.217.164.129, 2607:f8b0:4004:814::2001\n",
            "Connecting to doc-08-0g-docs.googleusercontent.com (doc-08-0g-docs.googleusercontent.com)|172.217.164.129|:443... connected.\n",
            "HTTP request sent, awaiting response... 200 OK\n",
            "Length: 52428800 (50M) [application/octet-stream]\n",
            "Saving to: ‘glove_split.ab’\n",
            "\n",
            "glove_split.ab      100%[===================>]  50.00M  79.8MB/s    in 0.6s    \n",
            "\n",
            "2022-02-15 00:47:05 (79.8 MB/s) - ‘glove_split.ab’ saved [52428800/52428800]\n",
            "\n",
            "--2022-02-15 00:47:05--  https://docs.google.com/uc?id=1N1xnxkRyM5Gar7sv4d41alyTL92Iip3f\n",
            "Resolving docs.google.com (docs.google.com)... 142.250.81.206, 2607:f8b0:4004:82f::200e\n",
            "Connecting to docs.google.com (docs.google.com)|142.250.81.206|:443... connected.\n",
            "HTTP request sent, awaiting response... 302 Moved Temporarily\n",
            "Location: https://doc-04-0g-docs.googleusercontent.com/docs/securesc/ha0ro937gcuc7l7deffksulhg5h7mbp1/o1nof41bq38hfihji4h7rok97t1l5dh2/1644885975000/14514704803973256873/*/1N1xnxkRyM5Gar7sv4d41alyTL92Iip3f [following]\n",
            "Warning: wildcards not supported in HTTP.\n",
            "--2022-02-15 00:47:05--  https://doc-04-0g-docs.googleusercontent.com/docs/securesc/ha0ro937gcuc7l7deffksulhg5h7mbp1/o1nof41bq38hfihji4h7rok97t1l5dh2/1644885975000/14514704803973256873/*/1N1xnxkRyM5Gar7sv4d41alyTL92Iip3f\n",
            "Resolving doc-04-0g-docs.googleusercontent.com (doc-04-0g-docs.googleusercontent.com)... 172.217.164.129, 2607:f8b0:4004:814::2001\n",
            "Connecting to doc-04-0g-docs.googleusercontent.com (doc-04-0g-docs.googleusercontent.com)|172.217.164.129|:443... connected.\n",
            "HTTP request sent, awaiting response... 200 OK\n",
            "Length: 24629432 (23M) [application/octet-stream]\n",
            "Saving to: ‘glove_split.ac’\n",
            "\n",
            "glove_split.ac      100%[===================>]  23.49M   154MB/s    in 0.2s    \n",
            "\n",
            "2022-02-15 00:47:06 (154 MB/s) - ‘glove_split.ac’ saved [24629432/24629432]\n",
            "\n"
          ]
        }
      ]
    },
    {
      "cell_type": "markdown",
      "metadata": {
        "id": "4AfN4rYTOmCD"
      },
      "source": [
        "## Load GloVe Embeddings"
      ]
    },
    {
      "cell_type": "code",
      "metadata": {
        "id": "TSF0C4jHjnSz",
        "colab": {
          "base_uri": "https://localhost:8080/"
        },
        "outputId": "a355d50a-93cc-4e25-e416-427546b7bf58"
      },
      "source": [
        "def load_glove(glove_path, embedding_dim):\n",
        "    with open(glove_path) as f:\n",
        "        token_ls = [PAD_TOKEN, UNK_TOKEN]\n",
        "        embedding_ls = [np.zeros(embedding_dim), np.random.rand(embedding_dim)]\n",
        "        for line in f:\n",
        "            token, raw_embedding = line.split(maxsplit=1)\n",
        "            token_ls.append(token)\n",
        "            embedding = np.array([float(x) for x in raw_embedding.split()])\n",
        "            embedding_ls.append(embedding)\n",
        "        embeddings = np.array(embedding_ls)\n",
        "        print(embedding_ls[-1].size)\n",
        "    return token_ls, embeddings\n",
        "\n",
        "PAD_TOKEN = '<PAD>'\n",
        "UNK_TOKEN = '<UNK>'\n",
        "EMBEDDING_DIM = 300 # dimension of Glove embeddings\n",
        "glove_path = \"glove.6B.300d__50k.txt\"\n",
        "vocab, embeddings = load_glove(glove_path, EMBEDDING_DIM)"
      ],
      "execution_count": 6,
      "outputs": [
        {
          "output_type": "stream",
          "name": "stdout",
          "text": [
            "300\n"
          ]
        }
      ]
    },
    {
      "cell_type": "code",
      "source": [
        "embeddings.shape"
      ],
      "metadata": {
        "colab": {
          "base_uri": "https://localhost:8080/"
        },
        "id": "jPvNKtnR6qrV",
        "outputId": "c416e1c9-59ab-4095-803b-ff30e670cd83"
      },
      "execution_count": 7,
      "outputs": [
        {
          "output_type": "execute_result",
          "data": {
            "text/plain": [
              "(50002, 300)"
            ]
          },
          "metadata": {},
          "execution_count": 7
        }
      ]
    },
    {
      "cell_type": "markdown",
      "metadata": {
        "id": "e_VZkGbgO4yA"
      },
      "source": [
        "## Import packages"
      ]
    },
    {
      "cell_type": "code",
      "metadata": {
        "id": "FpbnKsQeptXw",
        "colab": {
          "base_uri": "https://localhost:8080/"
        },
        "outputId": "1220d894-7742-4874-a4c4-a887143fd9f4"
      },
      "source": [
        "!pip install sacremoses\n",
        "\n",
        "import torch\n",
        "import torch.nn as nn\n",
        "import torch.nn.functional as F\n",
        "import torch.optim as optim\n",
        "import numpy as np\n",
        "import os\n",
        "import pandas as pd\n",
        "import sacremoses\n",
        "from torch.utils.data import dataloader, Dataset\n",
        "from tqdm.auto import tqdm"
      ],
      "execution_count": 8,
      "outputs": [
        {
          "output_type": "stream",
          "name": "stdout",
          "text": [
            "Requirement already satisfied: sacremoses in /usr/local/lib/python3.7/dist-packages (0.0.47)\n",
            "Requirement already satisfied: click in /usr/local/lib/python3.7/dist-packages (from sacremoses) (7.1.2)\n",
            "Requirement already satisfied: tqdm in /usr/local/lib/python3.7/dist-packages (from sacremoses) (4.62.3)\n",
            "Requirement already satisfied: six in /usr/local/lib/python3.7/dist-packages (from sacremoses) (1.15.0)\n",
            "Requirement already satisfied: regex in /usr/local/lib/python3.7/dist-packages (from sacremoses) (2019.12.20)\n",
            "Requirement already satisfied: joblib in /usr/local/lib/python3.7/dist-packages (from sacremoses) (1.1.0)\n"
          ]
        }
      ]
    },
    {
      "cell_type": "markdown",
      "metadata": {
        "id": "_Wwy3gSvO87p"
      },
      "source": [
        "# Tokenize text data.\n",
        "We will use the `tokenize` function to convert text data into sequence of indices."
      ]
    },
    {
      "cell_type": "code",
      "metadata": {
        "id": "j1aLbeOBmRyR",
        "colab": {
          "base_uri": "https://localhost:8080/",
          "height": 133,
          "referenced_widgets": [
            "6e975184490c432abc34232fff7ec2a1",
            "c46fd8970a7f4c94abfbeff242a97fa2",
            "9a72b2451ba241418fd8ba0c81b8f8e3",
            "ef37e7264e64487792bbf3e8112d7ad1",
            "cbd3a86ee2f54bcab4f0bb1aa77eb415",
            "e3eb51cf63924a068d16a500aefca31d",
            "8ca220ae622144909df97f25ab1d7cd2",
            "0fc47511bfc9437a8bf8e3e1ca660ccd",
            "a3d3e009c29b4582a75e7b39568d6f84",
            "fa6335fa8eac486a89833ce6a85dfec2",
            "f67427c6a9e842bd9605fe7e2b49478b",
            "0f9d43d545f04c019f64ac04bef9a241",
            "1b237b3842544ca898796575b02adb60",
            "c6eb13c4044e43c4a464b0f68c82f02f",
            "06c1594746fa406cbdf990e48b3a177d",
            "c99735c8f8fa44cd94e533cbbde5c9ce",
            "c0102f236ed841e090a001246a079753",
            "11a1f9da23f94a81b2a76c764518d001",
            "083d383e07794de39ce69d4e91e32282",
            "a8a52787f03640bbb08c541e8af54f76",
            "dfaf023782f04da6a37b75c55b296f47",
            "f4cf1f20d9e1454789cd43b16909096e",
            "fe69328d49d949d99c5b54327fc8ce37",
            "7c38b9755450435992743fe1c63580f1",
            "74f4d8724b5d4cc4a87550e9aa029e54",
            "1777626631024ee3b49b50ce1a151f53",
            "cb8a3932ccdf4784924b81afbc75f038",
            "570038c5d3cd43edbd3926efddc64a1f",
            "71b8466adab64e9b97043a3c65f4482a",
            "e42adb225fa84ea1ac33fa382c07d91c",
            "134c1ac447984542885183cbab07f9f2",
            "a7c8e4c8db154022b1639c8e8d7ddee4",
            "7996d591f08449b1bbd2806567c272e1"
          ]
        },
        "outputId": "4ca322dc-9226-423a-ac25-95d0e69d5eff"
      },
      "source": [
        "def tokenize(data, labels, tokenizer, vocab, max_seq_length=128):\n",
        "    vocab_to_idx = {word: i for i, word in enumerate(vocab)}\n",
        "    text_data = []\n",
        "    label_data = []\n",
        "    for ex in tqdm(data):\n",
        "        tokenized = tokenizer.tokenize(ex.lower())\n",
        "        ids = [vocab_to_idx.get(token, 1) for token in tokenized]\n",
        "        text_data.append(ids)\n",
        "    return text_data, labels\n",
        "tokenizer = sacremoses.MosesTokenizer()\n",
        "train_data_indices, train_labels = tokenize(train_texts, train_labels, tokenizer, vocab)\n",
        "val_data_indices, val_labels = tokenize(val_texts, val_labels, tokenizer, vocab)\n",
        "test_data_indices, test_labels = tokenize(test_texts, test_labels, tokenizer, vocab)"
      ],
      "execution_count": 9,
      "outputs": [
        {
          "output_type": "display_data",
          "data": {
            "application/vnd.jupyter.widget-view+json": {
              "model_id": "6e975184490c432abc34232fff7ec2a1",
              "version_minor": 0,
              "version_major": 2
            },
            "text/plain": [
              "  0%|          | 0/3902 [00:00<?, ?it/s]"
            ]
          },
          "metadata": {}
        },
        {
          "output_type": "display_data",
          "data": {
            "application/vnd.jupyter.widget-view+json": {
              "model_id": "0f9d43d545f04c019f64ac04bef9a241",
              "version_minor": 0,
              "version_major": 2
            },
            "text/plain": [
              "  0%|          | 0/835 [00:00<?, ?it/s]"
            ]
          },
          "metadata": {}
        },
        {
          "output_type": "display_data",
          "data": {
            "application/vnd.jupyter.widget-view+json": {
              "model_id": "fe69328d49d949d99c5b54327fc8ce37",
              "version_minor": 0,
              "version_major": 2
            },
            "text/plain": [
              "  0%|          | 0/835 [00:00<?, ?it/s]"
            ]
          },
          "metadata": {}
        }
      ]
    },
    {
      "cell_type": "code",
      "metadata": {
        "id": "OEF48Bddt5kA",
        "colab": {
          "base_uri": "https://localhost:8080/"
        },
        "outputId": "6cfd02d3-fe05-4561-b80f-06a8834f3448"
      },
      "source": [
        "print(\"\\nTrain text first 5 examples:\\n\", train_data_indices[:5])\n",
        "print(\"\\nTrain labels first 5 examples:\\n\", train_labels[:5])"
      ],
      "execution_count": 10,
      "outputs": [
        {
          "output_type": "stream",
          "name": "stdout",
          "text": [
            "\n",
            "Train text first 5 examples:\n",
            " [[78, 1021, 807, 1549, 10576, 1, 4552, 2549, 1091, 5, 6102, 16036, 375, 807, 2831, 2857, 6, 1, 116, 807, 1, 3, 1730, 2374, 807, 2161, 19342, 1, 1, 3, 1, 1, 4552, 30084, 5522, 4, 698], [86, 1, 3834, 1, 4], [11085, 2234, 1, 122, 407, 139, 27, 163, 7, 43, 17, 7107, 6, 255, 6481, 1, 807, 43, 826, 43, 1, 1, 6481, 140, 15, 2, 1266, 1, 85, 6481, 34, 62, 457, 287, 9, 582, 12895], [1, 3, 194, 4378, 7, 4593, 34, 1030, 287, 7, 194, 1, 34, 2712, 6, 158, 2, 366, 19, 9, 6294, 3, 271, 43, 96, 4925, 23, 8, 119, 31, 1154, 190], [1, 205, 513, 234, 1, 26216, 190, 6481, 39168, 113, 190, 113, 1913, 6481, 116, 190]]\n",
            "\n",
            "Train labels first 5 examples:\n",
            " [1, 0, 0, 0, 0]\n"
          ]
        }
      ]
    },
    {
      "cell_type": "markdown",
      "metadata": {
        "id": "_dlUYNvgPUXs"
      },
      "source": [
        "# Create DataLoaders (25 pts)\n",
        " Now, let's create pytorch DataLoaders for our train, val, and test data.\n",
        "\n",
        " `SpamDataset` class is based on torch [`Dataset`](https://pytorch.org/docs/1.7.0/data.html?highlight=dataset#torch.utils.data.Dataset). It has an additional parameter called `self.max_sent_length` and a `spam_collate_func`.\n",
        "\n",
        "In order to use batch processing, all the examples need to effectively be the same length. We'll do this by adding padding tokens. `spam_collate_func` is supposed to dynamically pad or trim the sentences in the batch based on `self.max_sent_length` and the length of longest sequence in the batch. \n",
        "- If `self.max_sent_length` is less than the length of longest sequence in the batch, use `self.max_sent_length`. Otherwise, use the length of longest sequence in the batch.\n",
        "- We do this because our input sentences in the batch may be much shorter than `self.max_sent_length`.  \n",
        "\n",
        "Please check the comment block in the code near TODO for more details.\n",
        "\n",
        "\n",
        "Example: \n",
        "\n",
        "* PAD token id = 0\n",
        "* max_sent_length = 5\n",
        "\n",
        "input list of sequences:\n",
        "```\n",
        "inp = [\n",
        "    [1,4,5,3,5,6,7,4,4],\n",
        "    [3,5,3,2],\n",
        "    [2,5,3,5,6,7,4],\n",
        "]\n",
        "```\n",
        "then padded minibatch looks like this:\n",
        "```\n",
        "padded_input = \n",
        "    [[1,4,5,3,5],\n",
        "     [3,5,3,2,0],\n",
        "     [2,5,3,5,6]]\n",
        "```"
      ]
    },
    {
      "cell_type": "code",
      "metadata": {
        "id": "-uJDfnVMxBsz"
      },
      "source": [
        "import numpy as np\n",
        "import torch\n",
        "from torch.utils.data import Dataset\n",
        "\n",
        "class SpamDataset(Dataset):\n",
        "    \"\"\"\n",
        "    Class that represents a train/validation/test dataset that's readable for PyTorch\n",
        "    Note that this class inherits torch.utils.data.Dataset\n",
        "    \"\"\"\n",
        "    \n",
        "    def __init__(self, data_list, target_list, max_sent_length=128):\n",
        "        \"\"\"\n",
        "        @param data_list: list of data tokens \n",
        "        @param target_list: list of data targets \n",
        "\n",
        "        \"\"\"\n",
        "        self.data_list = data_list\n",
        "        self.target_list = target_list\n",
        "        self.max_sent_length = max_sent_length\n",
        "        assert (len(self.data_list) == len(self.target_list))\n",
        "\n",
        "    def __len__(self):\n",
        "        return len(self.data_list)\n",
        "        \n",
        "    def __getitem__(self, key, max_sent_length=None):\n",
        "        \"\"\"\n",
        "        Triggered when you call dataset[i]\n",
        "        \"\"\"\n",
        "        if max_sent_length is None:\n",
        "            max_sent_length = self.max_sent_length\n",
        "        token_idx = self.data_list[key][:max_sent_length]\n",
        "        label = self.target_list[key]\n",
        "        return [token_idx, label]\n",
        "\n",
        "    def spam_collate_func(self, batch):\n",
        "        \"\"\"\n",
        "        Customized function for DataLoader that dynamically pads the batch so that all \n",
        "        data have the same length\n",
        "        # What the input `batch`? That's for you to figure out!\n",
        "        # You can read the Dataloader documentation, or you can use print\n",
        "        # function to debug. \n",
        "        \"\"\" \n",
        "        data_list = [] # store padded sequences\n",
        "        label_list = []\n",
        "\n",
        "        # the length of longest sequence in batch\n",
        "        # if it is less than self.max_sent_length\n",
        "        # else max_batch_seq_len = self.max_sent_length\n",
        "        max_batch_seq_len = max([len(text[0]) for text in batch]) if max([len(text[0]) for text in batch])<self.max_sent_length else self.max_sent_length\n",
        "\n",
        "        \"\"\"\n",
        "          # Pad the sequences in your data \n",
        "          # if their length is less than max_batch_seq_len\n",
        "          # or trim the sequences that are longer than self.max_sent_length\n",
        "          # return padded data_list and label_list\n",
        "          1. TODO: Your code here \n",
        "        \"\"\"\n",
        "        for text in batch:\n",
        "          len_pad = max_batch_seq_len - len(text[0])\n",
        "          if len_pad > 0:\n",
        "            text[0].extend([0]*len_pad)\n",
        "          else:\n",
        "            text[0] = text[0][:max_batch_seq_len]\n",
        "\n",
        "          data_list.append(text[0])\n",
        "          label_list.append(text[1])\n",
        "        \n",
        "        data_list = torch.Tensor(data_list).long()\n",
        "        label_list = torch.Tensor(label_list).long()\n",
        "\n",
        "        return [data_list, label_list]\n",
        "\n",
        "BATCH_SIZE = 64\n",
        "max_sent_length = 128\n",
        "train_dataset = SpamDataset(train_data_indices, train_labels, max_sent_length)\n",
        "train_loader = torch.utils.data.DataLoader(dataset=train_dataset, \n",
        "                                           batch_size=BATCH_SIZE,\n",
        "                                           collate_fn=train_dataset.spam_collate_func,\n",
        "                                           shuffle=True)\n",
        "\n",
        "val_dataset = SpamDataset(val_data_indices, val_labels, train_dataset.max_sent_length)\n",
        "val_loader = torch.utils.data.DataLoader(dataset=val_dataset, \n",
        "                                           batch_size=BATCH_SIZE,\n",
        "                                           collate_fn=train_dataset.spam_collate_func,\n",
        "                                           shuffle=False)\n",
        "\n",
        "test_dataset = SpamDataset(test_data_indices, test_labels, train_dataset.max_sent_length)\n",
        "test_loader = torch.utils.data.DataLoader(dataset=test_dataset, \n",
        "                                           batch_size=BATCH_SIZE,\n",
        "                                           collate_fn=train_dataset.spam_collate_func,\n",
        "                                           shuffle=False)\n"
      ],
      "execution_count": 11,
      "outputs": []
    },
    {
      "cell_type": "markdown",
      "metadata": {
        "id": "XWgRGaCWf4Zz"
      },
      "source": [
        "Let's try to print out an batch from train_loader.\n"
      ]
    },
    {
      "cell_type": "code",
      "metadata": {
        "id": "5O8R_KhwxULI",
        "colab": {
          "base_uri": "https://localhost:8080/"
        },
        "outputId": "83090770-3827-4008-c66f-2f320812e299"
      },
      "source": [
        "data_batch, labels = next(iter(train_loader))\n",
        "print(\"data batch dimension: \", data_batch.size())\n",
        "print(\"data_batch: \", data_batch)\n",
        "print(\"labels: \", labels)"
      ],
      "execution_count": 12,
      "outputs": [
        {
          "output_type": "stream",
          "name": "stdout",
          "text": [
            "data batch dimension:  torch.Size([64, 39])\n",
            "data_batch:  tensor([[ 5286,    43,   171,  ...,     0,     0,     0],\n",
            "        [ 3004,    14,    81,  ...,     0,     0,     0],\n",
            "        [13077,     3,    21,  ...,     0,     0,     0],\n",
            "        ...,\n",
            "        [  116,   171,  1067,  ...,     0,     0,     0],\n",
            "        [  394,  3008,  4834,  ...,     0,     0,     0],\n",
            "        [  102,   104,   121,  ...,     0,     0,     0]])\n",
            "labels:  tensor([0, 0, 0, 0, 0, 0, 0, 0, 0, 0, 0, 0, 1, 0, 0, 0, 0, 1, 0, 0, 0, 1, 0, 0,\n",
            "        0, 0, 0, 1, 1, 0, 0, 0, 0, 0, 0, 0, 0, 0, 0, 0, 0, 0, 0, 0, 0, 0, 0, 0,\n",
            "        0, 0, 0, 0, 0, 0, 0, 0, 0, 0, 0, 0, 0, 0, 1, 0])\n"
          ]
        }
      ]
    },
    {
      "cell_type": "markdown",
      "metadata": {
        "id": "HpdnYbPIgNXw"
      },
      "source": [
        "# Build a BiLSTM Classifier (20 + 25 + 10 pts)\n",
        "\n",
        "Now we are going to build a BiLSTM classifier. Check this [blog post](https://colah.github.io/posts/2015-08-Understanding-LSTMs/) and [`torch.nn.LSTM`](https://pytorch.org/docs/stable/nn.html?highlight=lstm#torch.nn.LSTM) for reference. Recall that we've also seen LSTM in Lab 3. \n",
        "\n",
        "The hyperparameters for LSTM are already given, but they are not necessarily optimal. You should get a good accuracy with these hyperparameters but you may try to tune the hyperparameters and use different hyperparameters to get better performance.\n",
        "\n",
        "* `__init__`: Class constructor. Here we define layers / parameters of LSTM.\n",
        "* `forward`: This function is used whenever you call your object as `model()`. It takes the input minibatch and returns the output representation from LSTM."
      ]
    },
    {
      "cell_type": "code",
      "metadata": {
        "id": "GOYEmADNDVIh"
      },
      "source": [
        "# First import torch related libraries\n",
        "import torch\n",
        "import torch.nn as nn\n",
        "import torch.nn.functional as F\n",
        "\n",
        "class LSTMClassifier(nn.Module):\n",
        "    \"\"\"\n",
        "    LSTMClassifier classification model\n",
        "    \"\"\"\n",
        "    def __init__(self, embeddings, hidden_size, num_layers, num_classes, bidirectional, dropout_prob=0.3):\n",
        "        super().__init__()\n",
        "        self.embedding_layer = self.load_pretrained_embeddings(embeddings)\n",
        "        \"\"\"\n",
        "           Define the components of your BiLSTM Classifier model\n",
        "           2. TODO: Your code here\n",
        "        \"\"\"\n",
        "        self.dropout = nn.Dropout(p=dropout_prob)\n",
        "        self.lstm = nn.LSTM(input_size=embeddings.shape[1], \n",
        "                            hidden_size=hidden_size, \n",
        "                            num_layers=num_layers, \n",
        "                            bidirectional=bidirectional)\n",
        "        \n",
        "        self.non_linearity = nn.ReLU()  # For example, ReLU\n",
        "        self.clf = nn.Linear(in_features=hidden_size*2, \n",
        "                             out_features=num_classes) # classifier layer\n",
        "\n",
        "        # raise NotImplementedError  # delete this line\n",
        "    \n",
        "    def load_pretrained_embeddings(self, embeddings):\n",
        "        \"\"\"\n",
        "           The code for loading embeddings from Lab 3 Deep Learning\n",
        "           Unlike lab, we are not setting `embedding_layer.weight.requires_grad = False`\n",
        "           because we want to finetune the embeddings on our data\n",
        "        \"\"\"\n",
        "        embedding_layer = nn.Embedding(embeddings.shape[0], embeddings.shape[1], padding_idx=0)\n",
        "        embedding_layer.weight.data = torch.Tensor(embeddings).float()\n",
        "        return embedding_layer\n",
        "\n",
        "\n",
        "    def forward(self, inputs):\n",
        "        logits = None\n",
        "        \"\"\"\n",
        "           Write forward pass for LSTM. You must use dropout after embedding\n",
        "           the inputs. \n",
        "\n",
        "           Example, forward := embedding -> bilstm -> pooling (sum?mean?max?) \n",
        "                              nonlinearity -> classifier\n",
        "           Refer to: https://arxiv.org/abs/1705.02364\n",
        "\n",
        "           Return logits\n",
        "\n",
        "           3. TODO: Your code here\n",
        "        \"\"\"\n",
        "        embed = self.embedding_layer(inputs)\n",
        "        embed = self.dropout(embed)\n",
        "\n",
        "        out, hidden = self.lstm(embed)\n",
        "        # out dim: batch_size * sequence length * (hidden_size*2)\n",
        "\n",
        "        pool = nn.MaxPool1d(out.shape[1])\n",
        "        out = pool(out.permute(0,2,1)).permute(0,2,1).view(-1, hidden_size*2)\n",
        "        # out dim: batch_size * (hidden_size*2)\n",
        "\n",
        "        out = self.non_linearity(out)\n",
        "        # out dim: batch_size * (hidden_size*2)\n",
        "        \n",
        "        logits = self.clf(out)\n",
        "        # out dim: batch_size * num_classes\n",
        "\n",
        "        return logits"
      ],
      "execution_count": 13,
      "outputs": []
    },
    {
      "cell_type": "markdown",
      "metadata": {
        "id": "p6P7O47Lfr0a"
      },
      "source": [
        "First, we will define an evaluation function that will return the accuracy of the model. We will use this to compute validation accuracy and test accuracy of the model given a dataloader."
      ]
    },
    {
      "cell_type": "code",
      "metadata": {
        "id": "dSkdBx1ULCFK"
      },
      "source": [
        "def evaluate(model, dataloader, device):\n",
        "    accuracy = None\n",
        "    model.eval()\n",
        "    \"\"\"\n",
        "        4. TODO: Your code here\n",
        "        Calculate the accuracy of the model on the data in dataloader\n",
        "        You may refer to `run_inference` function from Lab 3 part 1.\n",
        "    \"\"\"\n",
        "    with torch.no_grad():\n",
        "        pred_list = []\n",
        "        label_list = []\n",
        "        \n",
        "        for batch_text, batch_labels in dataloader:\n",
        "            pred = model(batch_text.to(device))\n",
        "            _, pred_label = torch.max(pred, 1, keepdim=False, out=None)\n",
        "            pred_list.append(pred_label.detach().cpu().numpy())\n",
        "            label_list.append(batch_labels.detach().cpu().numpy())\n",
        "            \n",
        "    preds = np.concatenate(pred_list, axis=0) \n",
        "    labels = np.concatenate(label_list, axis=0) \n",
        "     \n",
        "    accuracy = (preds==labels).mean()\n",
        "    return accuracy "
      ],
      "execution_count": 14,
      "outputs": []
    },
    {
      "cell_type": "markdown",
      "metadata": {
        "id": "JpCXZCO7iuEL"
      },
      "source": [
        "# Initialize the BiLSTM classifier model, criterion and optimizer\n"
      ]
    },
    {
      "cell_type": "code",
      "metadata": {
        "id": "YaPW_CjlK0F7"
      },
      "source": [
        "# BiLSTM hyperparameters\n",
        "hidden_size = 32\n",
        "num_layers = 1\n",
        "num_classes = 2\n",
        "bidirectional = True\n",
        "torch.manual_seed(1234)\n",
        "\n",
        "# if cuda exists, use cuda, else run on cpu\n",
        "if torch.cuda.is_available():\n",
        "    device = torch.device(\"cuda:0\")\n",
        "else:\n",
        "    device=torch.device('cpu')\n",
        "\n",
        "model = LSTMClassifier(embeddings, hidden_size, num_layers, num_classes, bidirectional)\n",
        "model.to(device)\n",
        "criterion = nn.CrossEntropyLoss()\n",
        "optimizer = optim.Adam(model.parameters(), lr=0.01)"
      ],
      "execution_count": 15,
      "outputs": []
    },
    {
      "cell_type": "markdown",
      "metadata": {
        "id": "GwkHYzbQikT4"
      },
      "source": [
        "# Train model with early stopping (10 pts)\n",
        "\n",
        "Train the model for `NUM_EPOCHS`. \n",
        "Keep track of training loss.  \n",
        "Compute the validation accuracy after each epoch. Keep track of the best validation accuracy and save the model with the best validation accuracy.  \n",
        "\n",
        "If the validation accuracy does not improve for more than `early_stop_patience` number of epochs in a row, stop training. \n"
      ]
    },
    {
      "cell_type": "code",
      "metadata": {
        "id": "QOlop_TMOD9V",
        "colab": {
          "base_uri": "https://localhost:8080/",
          "height": 210,
          "referenced_widgets": [
            "dee902cc0d7e49119d3efe7a27f94bf4",
            "2509e1d1a68840eabb53b4948492eff8",
            "859687e645d54cc0adac2c3228e45851",
            "f91d0871b4d64e9a848458b5259035a9",
            "4442971e22c848faba3a92a0c435e19f",
            "e2838762ff394fa49dd05e5d8d7d57a6",
            "c1cfb73f0a3e4ca5b16acbad6719c933",
            "4a0ff12895284cbcb3a32e2e6424b38e",
            "674e859024c04bb9936a49c0e520e61a",
            "e1ec581ef6d446e9b96e5f05bd3082ed",
            "67fc9a3bf2a14958ae6e6149acd50f2a"
          ]
        },
        "outputId": "81ecccb5-23f0-4780-b365-42e003858ccf"
      },
      "source": [
        "train_loss_history = []\n",
        "val_accuracy_history = []\n",
        "best_val_accuracy = 0\n",
        "n_no_improve = 0\n",
        "early_stop_patience = 2\n",
        "NUM_EPOCHS = 10\n",
        "  \n",
        "for epoch in tqdm(range(NUM_EPOCHS)):\n",
        "    model.train()  # this enables dropout/regularization\n",
        "    for i, (data_batch, batch_labels) in enumerate(train_loader):\n",
        "        \"\"\"\n",
        "           Code for training lstm\n",
        "           Keep track of training of for each batch using train_loss_history\n",
        "        \"\"\"\n",
        "        preds = model(data_batch.to(device))\n",
        "        loss = criterion(preds, batch_labels.to(device))\n",
        "        \"\"\"\n",
        "          5(1). TODO: Recall that pytorch training involves five critical\n",
        "          components, as discussed in the Lab. Some of the components are\n",
        "          still missing here. Your code here.\n",
        "        \"\"\"\n",
        "        loss.backward()\n",
        "        optimizer.step()\n",
        "        optimizer.zero_grad()\n",
        "        train_loss_history.append(loss.item())\n",
        "        # raise NotImplementedError  # delete this line\n",
        "\n",
        "    \"\"\"\n",
        "        Code for tracking best validation accuracy, saving the best model, and early stopping\n",
        "        # Compute validation accuracy after each training epoch using `evaluate` function\n",
        "        # Keep track of validation accuracy in `val_accuracy_history`\n",
        "        # save model with best validation accuracy, hint: torch.save(model, 'best_model.pt')\n",
        "        # Early stopping: \n",
        "        # stop training if the validation accuracy does not improve for more than `early_stop_patience` runs\n",
        "        5(2). TODO: Your code here\n",
        "    \"\"\"\n",
        "\n",
        "    acc = evaluate(model, val_loader, device)\n",
        "    print(\"epoch: \", epoch+1, \"Val Accuracy: \", acc)\n",
        "\n",
        "    # method 1: \n",
        "    # if the validation accuracy has not got better than the BEST validation accuracy for _ epochs\n",
        "    if val_accuracy_history == []:\n",
        "      best_val_accuracy = 0\n",
        "      torch.save(model, 'best_model.pt')\n",
        "    else:\n",
        "      if acc > max(val_accuracy_history):\n",
        "        torch.save(model, 'best_model.pt')\n",
        "      else: \n",
        "        n_no_improve += 1\n",
        "    val_accuracy_history.append(acc)\n",
        "\n",
        "    # # method 2\n",
        "    # # compare the validation accuracy of epoch j with the validation accuracy of epoch j-1 \n",
        "    # if val_accuracy_history == []:\n",
        "    #   torch.save(model, 'best_model.pt')\n",
        "    # else:\n",
        "    #   if acc > max(val_accuracy_history):\n",
        "    #     torch.save(model, 'best_model.pt')\n",
        "    # val_accuracy_history.append(acc)\n",
        "\n",
        "    # if len(val_accuracy_history) > early_stop_patience:\n",
        "    #   if val_accuracy_history[-1] <= val_accuracy_history[-2]:\n",
        "    #     n_no_improve += 1\n",
        "    #   else:\n",
        "    #     n_no_improve = 0\n",
        "\n",
        "    if n_no_improve > early_stop_patience:\n",
        "      print(\"Early stopped at epoch :\" , epoch+1)\n",
        "      break\n",
        "    else:\n",
        "      continue\n",
        "\n",
        "    if n_no_improve > early_stop_patience:\n",
        "      print(\"Early stopped at epoch :\" , epoch+1)\n",
        "      break\n",
        "    else:\n",
        "      continue\n",
        "\n",
        "best_val_accuracy = max(val_accuracy_history)\n",
        "    # The end of a training epoch \n",
        "    # raise NotImplementedError  # delete this line\n",
        "\n",
        "print(\"Best validation accuracy is: \", best_val_accuracy)"
      ],
      "execution_count": 16,
      "outputs": [
        {
          "output_type": "display_data",
          "data": {
            "application/vnd.jupyter.widget-view+json": {
              "model_id": "dee902cc0d7e49119d3efe7a27f94bf4",
              "version_minor": 0,
              "version_major": 2
            },
            "text/plain": [
              "  0%|          | 0/10 [00:00<?, ?it/s]"
            ]
          },
          "metadata": {}
        },
        {
          "output_type": "stream",
          "name": "stdout",
          "text": [
            "epoch:  1 Val Accuracy:  0.9772455089820359\n",
            "epoch:  2 Val Accuracy:  0.98562874251497\n",
            "epoch:  3 Val Accuracy:  0.9892215568862276\n",
            "epoch:  4 Val Accuracy:  0.9844311377245509\n",
            "epoch:  5 Val Accuracy:  0.9844311377245509\n",
            "epoch:  6 Val Accuracy:  0.98562874251497\n",
            "Early stopped at epoch : 6\n",
            "Best validation accuracy is:  0.9892215568862276\n"
          ]
        }
      ]
    },
    {
      "cell_type": "markdown",
      "metadata": {
        "id": "0hhFpkMHnT7Z"
      },
      "source": [
        "#Question: Why do we want to use early stopping? Write the most important reason in concise way. (10 pts)\n",
        "\n",
        "Your answer: \n",
        "- Keep training the model iteratively can easily lead to overfitting problems, since the model may memorize the data rather than own fancy generalization ability, to achieve great performance during fitting the training set. \n",
        "- Early stopping can serve as a regularizor to prevent the model from learning once it detects that the validation score cannot be improved anymore, which indicates that the model's ability to generalize has already been optimized."
      ]
    },
    {
      "cell_type": "markdown",
      "metadata": {
        "id": "I58rTeMEg05M"
      },
      "source": [
        "# Draw training curve \n",
        "X-axis: training steps, Y-axis: training loss\n",
        "\n",
        "Make sure to draw your own curves. "
      ]
    },
    {
      "cell_type": "code",
      "metadata": {
        "id": "KyalZo6tSXo_",
        "colab": {
          "base_uri": "https://localhost:8080/",
          "height": 303
        },
        "outputId": "4fd80632-366f-4f6c-e3bc-fc059e67a3c8"
      },
      "source": [
        "pd.Series(train_loss_history).plot()"
      ],
      "execution_count": 17,
      "outputs": [
        {
          "output_type": "execute_result",
          "data": {
            "text/plain": [
              "<matplotlib.axes._subplots.AxesSubplot at 0x7f17ab5c4150>"
            ]
          },
          "metadata": {},
          "execution_count": 17
        },
        {
          "output_type": "display_data",
          "data": {
            "image/png": "[encoded data removed]",
            "text/plain": [
              "<Figure size 432x288 with 1 Axes>"
            ]
          },
          "metadata": {
            "needs_background": "light"
          }
        }
      ]
    },
    {
      "cell_type": "markdown",
      "metadata": {
        "id": "oMiI_u4ggvQK"
      },
      "source": [
        "# Validation accuracy curve\n",
        "X-axis: Epochs, Y-axis: validation accuracy"
      ]
    },
    {
      "cell_type": "code",
      "metadata": {
        "id": "Qt8iNjFwPVtc",
        "colab": {
          "base_uri": "https://localhost:8080/",
          "height": 303
        },
        "outputId": "8a84f323-d73b-4459-b4ec-d2913691d593"
      },
      "source": [
        "pd.Series(val_accuracy_history).plot()"
      ],
      "execution_count": 18,
      "outputs": [
        {
          "output_type": "execute_result",
          "data": {
            "text/plain": [
              "<matplotlib.axes._subplots.AxesSubplot at 0x7f17a1d4d590>"
            ]
          },
          "metadata": {},
          "execution_count": 18
        },
        {
          "output_type": "display_data",
          "data": {
            "image/png": "[encoded data removed]",
            "text/plain": [
              "<Figure size 432x288 with 1 Axes>"
            ]
          },
          "metadata": {
            "needs_background": "light"
          }
        }
      ]
    },
    {
      "cell_type": "markdown",
      "metadata": {
        "id": "qqanG00Ggluj"
      },
      "source": [
        "## You should expect to get test accuracy > 0.95."
      ]
    },
    {
      "cell_type": "code",
      "metadata": {
        "id": "cw6KtE2uSf1X",
        "colab": {
          "base_uri": "https://localhost:8080/"
        },
        "outputId": "4c84ad1d-c7a8-4f48-9035-2ee38dc576a5"
      },
      "source": [
        "# Reload best model from saved checkpoint\n",
        "# Compute test accuracy\n",
        "model = torch.load('best_model.pt')\n",
        "test_accuracy = evaluate(model, test_loader, device)\n",
        "print(test_accuracy)"
      ],
      "execution_count": 19,
      "outputs": [
        {
          "output_type": "stream",
          "name": "stdout",
          "text": [
            "0.9916167664670659\n"
          ]
        }
      ]
    }
  ]
}